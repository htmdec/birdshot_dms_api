{
 "cells": [
  {
   "cell_type": "code",
   "execution_count": null,
   "id": "042f4c05-d36b-4516-bcbf-fbe721067264",
   "metadata": {},
   "outputs": [],
   "source": [
    "import birdshot\n",
    "from ydata_profiling import ProfileReport\n",
    "\n",
    "df = birdshot.query(\"AAA\")\n",
    "\n",
    "ProfileReport(df, title=\"Profiling Report\")"
   ]
  },
  {
   "cell_type": "code",
   "execution_count": null,
   "id": "1978bd56-e2ab-4695-9b72-8fee53ef5ec2",
   "metadata": {},
   "outputs": [],
   "source": []
  }
 ],
 "metadata": {
  "kernelspec": {
   "display_name": "Python 3 (ipykernel)",
   "language": "python",
   "name": "python3"
  },
  "language_info": {
   "codemirror_mode": {
    "name": "ipython",
    "version": 3
   },
   "file_extension": ".py",
   "mimetype": "text/x-python",
   "name": "python",
   "nbconvert_exporter": "python",
   "pygments_lexer": "ipython3",
   "version": "3.8.13"
  }
 },
 "nbformat": 4,
 "nbformat_minor": 5
}
