{
 "cells": [
  {
   "cell_type": "code",
   "execution_count": 26,
   "metadata": {},
   "outputs": [],
   "source": [
    "from girder_client import GirderClient\n",
    "import pandas as pd\n",
    "import birdshot2\n",
    "\n",
    "# Authenticate with GirderClient\n",
    "client = GirderClient(apiUrl=\"https://data.htmdec.org/api/v1\")\n",
    "client.authenticate(apiKey=\"MFfpVN81hmOaUV7cTGsovnzdr0iB87ygR0RxkDYA\")\n",
    "\n",
    "# List of campaigns to analyze\n",
    "campaigns =  [\"AAA\", \"AAB\", \"AAC\", \"AAD\", \"AAE\", \"BAA\", \"BBA\", \"BBB\", \"BBC\", \"CBA\"]\n",
    "\n",
    "# Initialize DataFrames to store results\n",
    "all_samples_missing = []\n",
    "all_columns_missing = []\n",
    "\n",
    "# Loop through each campaign and calculate missing values\n",
    "for campaign in campaigns:\n",
    "    # Query the data for the given campaign\n",
    "    df = birdshot2.query(campaign=campaign, client=client)\n",
    "    \n",
    "    # Count the number of missing values for each sample (rows)\n",
    "    row_missing = df.isna().sum(axis=1)\n",
    "    row_missing.name = \"Missing Values\"\n",
    "    row_missing = row_missing.reset_index()\n",
    "    row_missing.columns = ['Sample', 'Missing Values']\n",
    "    row_missing['Campaign'] = campaign  # Add campaign identifier for grouping\n",
    "    all_samples_missing.append(row_missing)\n",
    "    \n",
    "    # Count the number of missing values for each column\n",
    "    column_missing = df.isna().sum(axis=0)\n",
    "    column_missing.name = campaign\n",
    "    all_columns_missing.append(column_missing)\n",
    "\n",
    "# Combine results for all samples into a single DataFrame\n",
    "samples_missing_df = pd.concat(all_samples_missing, ignore_index=True)\n",
    "\n",
    "# Add a row for the sum of missing values by campaign\n",
    "campaign_sums = samples_missing_df.groupby('Campaign')['Missing Values'].sum().reset_index()\n",
    "campaign_sums['Sample'] = campaign_sums['Campaign']  # Use campaign name as the sample name\n",
    "samples_missing_df = pd.concat([samples_missing_df, campaign_sums], ignore_index=True)\n",
    "\n",
    "# Combine results for all columns into a single DataFrame\n",
    "columns_missing_df = pd.concat(all_columns_missing, axis=1).T  # Transpose to make campaigns rows\n",
    "\n",
    "# Add a row for the total missing values across all campaigns\n",
    "columns_missing_df.loc['Total'] = columns_missing_df.sum(axis=0)\n",
    "\n",
    "# Add a column for the sum of missing values across rows for each campaign\n",
    "columns_missing_df['Total'] = columns_missing_df.sum(axis=1)\n",
    "\n",
    "# Sort columns alphabetically (excluding the 'Row Sum' column, which stays at the end)\n",
    "columns_to_sort = [col for col in columns_missing_df.columns if col != 'Total']\n",
    "columns_missing_df = columns_missing_df[sorted(columns_to_sort) + ['Total']]\n",
    "\n",
    "# Save the results to CSV files\n",
    "samples_missing_df.to_csv('per_sample.csv', index=False)\n",
    "columns_missing_df.to_csv('per_column.csv', index=True)"
   ]
  },
  {
   "cell_type": "code",
   "execution_count": null,
   "metadata": {},
   "outputs": [],
   "source": []
  }
 ],
 "metadata": {
  "kernelspec": {
   "display_name": "default",
   "language": "python",
   "name": "python3"
  },
  "language_info": {
   "codemirror_mode": {
    "name": "ipython",
    "version": 3
   },
   "file_extension": ".py",
   "mimetype": "text/x-python",
   "name": "python",
   "nbconvert_exporter": "python",
   "pygments_lexer": "ipython3",
   "version": "3.9.16"
  }
 },
 "nbformat": 4,
 "nbformat_minor": 2
}
