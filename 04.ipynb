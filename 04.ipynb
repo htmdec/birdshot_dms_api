{
 "cells": [
  {
   "cell_type": "code",
   "execution_count": 1,
   "metadata": {},
   "outputs": [
    {
     "ename": "NameError",
     "evalue": "name 'query' is not defined",
     "output_type": "error",
     "traceback": [
      "\u001b[0;31m---------------------------------------------------------------------------\u001b[0m",
      "\u001b[0;31mNameError\u001b[0m                                 Traceback (most recent call last)",
      "Cell \u001b[0;32mIn[1], line 8\u001b[0m\n\u001b[1;32m      5\u001b[0m client \u001b[38;5;241m=\u001b[39m GirderClient(apiUrl\u001b[38;5;241m=\u001b[39m\u001b[38;5;124m\"\u001b[39m\u001b[38;5;124mhttps://data.htmdec.org/api/v1\u001b[39m\u001b[38;5;124m\"\u001b[39m)\n\u001b[1;32m      6\u001b[0m client\u001b[38;5;241m.\u001b[39mauthenticate(apiKey\u001b[38;5;241m=\u001b[39m\u001b[38;5;124m\"\u001b[39m\u001b[38;5;124mMFfpVN81hmOaUV7cTGsovnzdr0iB87ygR0RxkDYA\u001b[39m\u001b[38;5;124m\"\u001b[39m)\n\u001b[0;32m----> 8\u001b[0m df \u001b[38;5;241m=\u001b[39m \u001b[43mquery\u001b[49m(campaign\u001b[38;5;241m=\u001b[39m\u001b[38;5;124m'\u001b[39m\u001b[38;5;124mCBA\u001b[39m\u001b[38;5;124m'\u001b[39m, client\u001b[38;5;241m=\u001b[39mclient)\n\u001b[1;32m     10\u001b[0m \u001b[38;5;66;03m# Create a DataFrame to store the sums of missing values\u001b[39;00m\n\u001b[1;32m     11\u001b[0m missing_summary \u001b[38;5;241m=\u001b[39m pd\u001b[38;5;241m.\u001b[39mDataFrame()\n",
      "\u001b[0;31mNameError\u001b[0m: name 'query' is not defined"
     ]
    }
   ],
   "source": [
    "from girder_client import GirderClient\n",
    "import os\n",
    "import birdshot2\n",
    "\n",
    "client = GirderClient(apiUrl=\"https://data.htmdec.org/api/v1\")\n",
    "client.authenticate(apiKey=\"MFfpVN81hmOaUV7cTGsovnzdr0iB87ygR0RxkDYA\")\n",
    "\n",
    "df = birdshot2.query(campaign='CBA', client=client)\n",
    "\n",
    "# Create a DataFrame to store the sums of missing values\n",
    "missing_summary = pd.DataFrame()\n",
    "\n",
    "# Add a column for the sum of missing values per row\n",
    "missing_summary['Missing per Row'] = df.isna().sum(axis=1)\n",
    "\n",
    "# Add a row for the sum of missing values per column\n",
    "missing_summary.loc['Missing per Column'] = df.isna().sum(axis=0)\n",
    "\n",
    "# Output the table\n",
    "print(missing_summary)"
   ]
  },
  {
   "cell_type": "code",
   "execution_count": null,
   "metadata": {},
   "outputs": [],
   "source": []
  }
 ],
 "metadata": {
  "kernelspec": {
   "display_name": "default",
   "language": "python",
   "name": "python3"
  },
  "language_info": {
   "codemirror_mode": {
    "name": "ipython",
    "version": 3
   },
   "file_extension": ".py",
   "mimetype": "text/x-python",
   "name": "python",
   "nbconvert_exporter": "python",
   "pygments_lexer": "ipython3",
   "version": "3.9.16"
  }
 },
 "nbformat": 4,
 "nbformat_minor": 2
}
