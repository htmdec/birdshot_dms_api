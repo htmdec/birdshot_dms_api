{
 "cells": [
  {
   "cell_type": "markdown",
   "id": "3372a249-9215-4441-b2d4-d1561a23e22d",
   "metadata": {},
   "source": [
    "# HTMDEC DMS API Example\n",
    "\n",
    "This example demonstrates how to use the new HTMDEC DMS `/form` and `/entry` REST API endpoints to search for BIRDSHOT data which can be converted to a Pandas dataframe for analysis and visualization. \n",
    "\n",
    "The `birdshot.py` module implements some example utility functions for querying, analyzing, and visualizing BIRDSHOT data."
   ]
  },
  {
   "cell_type": "markdown",
   "id": "74fc79a9-d46b-4cd4-888c-61d925acc753",
   "metadata": {},
   "source": [
    "### Note:\n",
    "During the ingest process, form data collected by Contextualize in the Campaign 1 structure was converted to the [Campaign 2 structure](https://docs.google.com/document/d/1FpiXwLQi8QAOuLB0Xr80V14qGfqtyCpT/edit). This means that:\n",
    "* Sample IDs were converted to the Campaign 2 structure \n",
    "* Campaign 1 \"child\" sample numbers (T*nn*) have been replaced with ordinal letters (a, b, c, ...)\n"
   ]
  },
  {
   "cell_type": "markdown",
   "id": "0a32df52-f570-4995-a7f0-4300e9627e07",
   "metadata": {},
   "source": [
    "### Using the REST API\n",
    "\n",
    "The [Girder Client](https://girder.readthedocs.io/en/latest/python-client.html) can be used to query the REST endpoints directly. When running via the DMS, the API URL and user token required for access are available in the current environment.\n"
   ]
  },
  {
   "cell_type": "code",
   "execution_count": null,
   "id": "489b86b5-91ba-4b13-a039-9b7ebc8a20cf",
   "metadata": {},
   "outputs": [],
   "source": [
    "from girder_client import GirderClient\n",
    "import os\n",
    "import json\n",
    "import pandas as pd\n",
    "\n",
    "# Connect to the Girder instance using the API key\n",
    "client = GirderClient(apiUrl=os.environ[\"GIRDER_API_URL\"])\n",
    "client.authenticate(apiKey=os.environ[\"GIRDER_TOKEN\"])"
   ]
  },
  {
   "cell_type": "code",
   "execution_count": null,
   "id": "4b61ba2d-89bf-4da7-9354-f5c9ef8ddc00",
   "metadata": {},
   "outputs": [],
   "source": [
    "# Fetch a few entries to inspect their structure\n",
    "entries = client.get('entry', parameters={'limit': 5})\n",
    "\n",
    "import pprint\n",
    "pprint.pprint(entries[0])  # Look at the first entry to explore keys\n"
   ]
  },
  {
   "cell_type": "code",
   "execution_count": null,
   "id": "cd797dfa-53cc-45e2-8f03-365628f69490",
   "metadata": {},
   "outputs": [],
   "source": [
    "entry = entries[0]  # First entry from previous step\n",
    "metadata = entry.get('meta', {})\n",
    "print(metadata.keys())  # This shows the metadata fields like 'Iteration', 'Form', etc."
   ]
  },
  {
   "cell_type": "code",
   "execution_count": null,
   "id": "1331e655-a883-40e0-8c51-4a7c97c54c54",
   "metadata": {},
   "outputs": [],
   "source": [
    "from girder_client import GirderClient\n",
    "import pprint\n",
    "\n",
    "client = GirderClient(apiUrl=\"https://data.htmdec.org/api/v1\")\n",
    "client.authenticate(apiKey=\"s6u5gYeQIunhjbc6XOXzV5tuEYSfdQn2ZWbaqJyU\")\n",
    "\n",
    "# Step 1: List all items in your folder\n",
    "folder_id = \"65fac36a60662ef084f6bc06\"\n",
    "items = list(client.listItem(folder_id))\n",
    "\n",
    "print(f\"Found {len(items)} items in the folder.\")\n",
    "\n",
    "# Step 2: Filter by metadata field \"Iteration\" = \"AAA\"\n",
    "for item in items:\n",
    "    meta = item.get(\"meta\", {})\n",
    "    if meta.get(\"Iteration\") == \"AAA\":\n",
    "        print(f\"\\nItem Name: {item['name']}\")\n",
    "        pprint.pprint(meta)\n",
    "\n",
    "\n"
   ]
  },
  {
   "cell_type": "code",
   "execution_count": null,
   "id": "a4031d8c-0a8d-4a74-b144-bd82cf8ab5bf",
   "metadata": {},
   "outputs": [],
   "source": [
    "# Look at the metadata keys in the first few items\n",
    "for i, item in enumerate(items[:5]):\n",
    "    print(f\"\\nItem {i} metadata keys: {item.get('meta', {}).keys()}\")"
   ]
  },
  {
   "cell_type": "code",
   "execution_count": null,
   "id": "808d8c2e-8de9-4ccd-87b0-16a7ca915846",
   "metadata": {},
   "outputs": [],
   "source": [
    "# Look at the metadata keys in the first few items\n",
    "for i, item in enumerate(items[:5]):\n",
    "    print(f\"\\nItem {i} metadata keys: {item.get('meta', {}).keys()}\")"
   ]
  },
  {
   "cell_type": "code",
   "execution_count": null,
   "id": "747167c7-dbf2-4a1a-a5eb-2e127ce0edcd",
   "metadata": {},
   "outputs": [],
   "source": [
    "# client.get('entry/search', parameters={'query': f'^{iteration}.._VAM-.', 'limit': 1000})"
   ]
  },
  {
   "cell_type": "markdown",
   "id": "c75ac11d-7e0c-45dc-a5e0-b9245cdf16b8",
   "metadata": {},
   "source": [
    "To query VAM data from iteration 1 (AAA) across all forms, use the `/entry/search` endpoint to query the Sample ID. Data is returned in JSON:"
   ]
  },
  {
   "cell_type": "code",
   "execution_count": null,
   "id": "00ce9006-eb27-4d91-8844-250faf8f276e",
   "metadata": {},
   "outputs": [],
   "source": [
    "iteration = 'AAA'\n",
    "raw_data = client.get(\n",
    "        'entry/search', parameters={'query': f'^{iteration}.._VAM-.', 'limit': 1000}\n",
    ")\n",
    "raw_data[0][\"data\"]"
   ]
  },
  {
   "cell_type": "markdown",
   "id": "2a1d31d9-9cd8-4d4d-9e91-2608e746aaba",
   "metadata": {},
   "source": [
    "Use the `/form` and `entry` endpoints to query data from a specific form:"
   ]
  },
  {
   "cell_type": "code",
   "execution_count": null,
   "id": "cebcd93f-e8ed-4398-a72c-f6bdf969311f",
   "metadata": {},
   "outputs": [],
   "source": [
    "form_name = 'tensile-details.json'\n",
    "form = client.get('form', parameters={'entryFileName': form_name, 'limit': 1000})\n",
    "form[0]['_id']\n",
    "\n",
    "tensile_data = client.get('entry', parameters={'formId': form[0]['_id'], 'limit': 1000})\n",
    "tensile_data[0][\"data\"]"
   ]
  },
  {
   "cell_type": "markdown",
   "id": "2d796ad8-60d4-4276-934a-775bc72fd589",
   "metadata": {},
   "source": [
    "### Using the `birdshot` Module\n",
    "\n",
    "The `birdshot.py` module implements a few helper functions to query the REST API and convert data into a single Pandas dataframe for analysis:"
   ]
  },
  {
   "cell_type": "code",
   "execution_count": null,
   "id": "f33ebf7d-c4f5-48ea-af03-9b39309b8c15",
   "metadata": {},
   "outputs": [],
   "source": [
    "import birdshot"
   ]
  },
  {
   "cell_type": "markdown",
   "id": "1650b955-713a-4f58-8e8e-197382639d8f",
   "metadata": {},
   "source": [
    "The `query()` method takes the iteration identifier as an argument and returns a dataframe of results from multiple characterization methods. The example dataframe is intended to reproduce the information available in the Summary Synthesis Results (for example see [HTMDEC AAB Summary Synthesis Results](https://docs.google.com/spreadsheets/d/15cdImpOComsvUpAIq20_nyff65WVzN_q/))."
   ]
  },
  {
   "cell_type": "code",
   "execution_count": null,
   "id": "e1b3506d-f5d3-485f-b9ef-3aab5898ceec",
   "metadata": {},
   "outputs": [],
   "source": [
    "client = GirderClient(apiUrl=os.environ[\"GIRDER_API_URL\"])\n",
    "#client.token = os.environ[\"GIRDER_TOKEN\"]\n",
    "client.authenticate(apiKey=os.environ[\"GIRDER_TOKEN\"])\n",
    "df = birdshot.query(\"AAA\")\n",
    "df"
   ]
  },
  {
   "cell_type": "code",
   "execution_count": null,
   "id": "e6b22e74-e4de-4b35-86d8-fed941275286",
   "metadata": {},
   "outputs": [],
   "source": [
    "raw_data = birdshot.query(\"Iteration1_AAA\", raw=True)\n",
    "print(raw_data)"
   ]
  },
  {
   "cell_type": "code",
   "execution_count": null,
   "id": "aa2702f3-bee3-4773-a7be-c771d66b767b",
   "metadata": {},
   "outputs": [],
   "source": [
    "from girder_client import GirderClient\n",
    "import os\n",
    "\n",
    "client = GirderClient(apiUrl=os.environ[\"GIRDER_API_URL\"])\n",
    "#client.token = os.environ[\"GIRDER_TOKEN\"]\n",
    "client.authenticate(apiKey=os.environ[\"GIRDER_TOKEN\"])\n",
    "print(client.get('user/me'))\n",
    "raw_data_direct = client.get(\"entry/search\", parameters={\"query\": \"AAA\", \"limit\": 1000})\n",
    "print(raw_data_direct)\n"
   ]
  },
  {
   "cell_type": "code",
   "execution_count": null,
   "id": "02ffd9a4-e430-4106-9770-a8c1f3bb2dab",
   "metadata": {},
   "outputs": [],
   "source": [
    "from girder_client import GirderClient\n",
    "import os\n",
    "\n",
    "client = GirderClient(apiUrl=os.environ[\"GIRDER_API_URL\"])\n",
    "client.token = os.environ[\"GIRDER_TOKEN\"]\n",
    "\n",
    "# 1. List all collections and find the one named \"BIRDSHOT (Center)\"\n",
    "collections = client.listCollection()\n",
    "for col in collections:\n",
    "    print(col['name'], col['_id'])\n",
    "    # If col['name'] == 'BIRDSHOT (Center)', store its _id\n",
    "    if col['name'] == 'BIRDSHOT (Center)':\n",
    "        birdshot_collection_id = col['_id']\n",
    "\n",
    "# 2. List the subfolders of the BIRDSHOT (Center) collection\n",
    "folders = client.listFolder(birdshot_collection_id, parentType='collection')\n",
    "for folder in folders:\n",
    "    print(folder['name'], folder['_id'])\n",
    "    # If folder['name'] == 'sample_data', store its _id\n",
    "    if folder['name'] == 'sample_data':\n",
    "        sample_data_folder_id = folder['_id']\n",
    "\n",
    "# 3. List subfolders inside \"sample_data\"\n",
    "subfolders = client.listFolder(sample_data_folder_id)\n",
    "for sf in subfolders:\n",
    "    print(sf['name'], sf['_id'])\n",
    "\n"
   ]
  },
  {
   "cell_type": "code",
   "execution_count": null,
   "id": "0975da67-6561-427c-a814-fbb135e55885",
   "metadata": {},
   "outputs": [],
   "source": [
    "df = birdshot.query(\"AAA\")"
   ]
  },
  {
   "cell_type": "code",
   "execution_count": null,
   "id": "945905f8-f7ff-46c9-a816-b5f2fe90fa8f",
   "metadata": {},
   "outputs": [],
   "source": [
    "import sys\n",
    "print(sys.executable)"
   ]
  },
  {
   "cell_type": "code",
   "execution_count": 1,
   "id": "60e38fe3-d637-489e-895b-ed2811cc1689",
   "metadata": {},
   "outputs": [
    {
     "name": "stdout",
     "output_type": "stream",
     "text": [
      "https://data.htmdec.org/api/v1\n",
      "None\n",
      "localhost:8888\n"
     ]
    }
   ],
   "source": [
    "import os\n",
    "print(os.environ.get(\"GIRDER_API_URL\"))\n",
    "print(os.environ.get(\"GIRDER_API_KEY\"))\n",
    "print(os.environ.get(\"TMP_URL\"))\n"
   ]
  },
  {
   "cell_type": "code",
   "execution_count": null,
   "id": "7a34a86d-87a6-4344-8e77-bb7d653df1bf",
   "metadata": {},
   "outputs": [],
   "source": [
    "import birdshot\n",
    "import pandas as pd\n",
    "\n",
    "data = birdshot.query(\"AAA\", raw=True)  # Assuming you can modify or patch query to return early\n",
    "df = pd.DataFrame.from_dict(data, orient='index')\n",
    "print(\"Actual columns:\", df.columns)\n"
   ]
  },
  {
   "cell_type": "code",
   "execution_count": null,
   "id": "e658e999-3601-4914-a68f-4575969a94c3",
   "metadata": {},
   "outputs": [],
   "source": [
    "from girder_client import GirderClient\n",
    "import os\n",
    "\n",
    "client = GirderClient(apiUrl=os.environ[\"GIRDER_API_URL\"])\n",
    "client.authenticate(apiKey=os.environ[\"GIRDER_TOKEN\"])\n",
    "\n",
    "# Send the same query that birdshot.query(\"AAA\") uses\n",
    "raw_data = client.get(\n",
    "    'entry/search',\n",
    "    parameters={'query': '^AAA.._VAM-.', 'limit': 1000}\n",
    ")\n",
    "\n",
    "# If you want to preview what keys/structure it has:\n",
    "import json\n",
    "print(json.dumps(raw_data[:2], indent=2))  # print a couple entries\n",
    "\n",
    "# Create a DataFrame to see the actual columns\n",
    "import pandas as pd\n",
    "df = pd.DataFrame.from_records(raw_data)\n",
    "print(\"Actual columns:\", df.columns.tolist())\n"
   ]
  },
  {
   "cell_type": "code",
   "execution_count": null,
   "id": "283f966c-6358-4ec6-990a-280cc1fa0bfa",
   "metadata": {},
   "outputs": [],
   "source": [
    "import birdshot\n",
    "import importlib\n",
    "\n",
    "importlib.reload(birdshot)\n"
   ]
  },
  {
   "cell_type": "code",
   "execution_count": null,
   "id": "18ba5554-c539-4ca1-b173-ea77ab52322e",
   "metadata": {},
   "outputs": [],
   "source": [
    "birdshot.show_plot()\n"
   ]
  },
  {
   "cell_type": "code",
   "execution_count": null,
   "id": "b8b9c28c-28ba-4526-b686-2c5302362c06",
   "metadata": {},
   "outputs": [],
   "source": []
  },
  {
   "cell_type": "code",
   "execution_count": null,
   "id": "062c91f6-c352-41a4-b1ba-227fd8fbf992",
   "metadata": {},
   "outputs": [],
   "source": [
    "import birdshot\n",
    "import os\n",
    "import socket\n",
    "\n",
    "# Find a free port\n",
    "def get_free_port():\n",
    "    with socket.socket(socket.AF_INET, socket.SOCK_STREAM) as s:\n",
    "        s.bind(('', 0))  # Let OS pick an available port\n",
    "        return s.getsockname()[1]\n",
    "\n",
    "free_port = get_free_port()\n",
    "os.environ['TMP_URL'] = 'localhost:8888'  # This should match your running Jupyter server\n",
    "\n",
    "def patched_show_plot():\n",
    "    from dash import Dash\n",
    "    import dash_bootstrap_components as dbc\n",
    "\n",
    "    app = Dash(\n",
    "        __name__,\n",
    "        external_stylesheets=[dbc.themes.BOOTSTRAP, dbc.icons.FONT_AWESOME],\n",
    "        requests_pathname_prefix=f\"/proxy/{free_port}/\",\n",
    "    )\n",
    "    app.layout = birdshot.serve_layout\n",
    "    app.run(\n",
    "        debug=False,\n",
    "        jupyter_mode=\"jupyterlab\",\n",
    "        host=\"0.0.0.0\",\n",
    "        port=free_port,\n",
    "        jupyter_server_url=f\"http://{os.environ['TMP_URL']}/\",\n",
    "    )\n",
    "\n",
    "birdshot.show_plot = patched_show_plot\n",
    "birdshot.show_plot()\n"
   ]
  },
  {
   "cell_type": "markdown",
   "id": "16b3e783-115c-4140-aaed-83e486df86fd",
   "metadata": {},
   "source": [
    "### Working on understanding the queries to get something interesting into the dataframe"
   ]
  },
  {
   "cell_type": "code",
   "execution_count": null,
   "id": "1ed98e0d-23bc-482b-9458-1a6847b5361c",
   "metadata": {},
   "outputs": [],
   "source": [
    "# Define the iteration value\n",
    "iteration = 'AAA'\n",
    "\n",
    "# Build the query string using the iteration variable\n",
    "query_string = f\"^{iteration}.._VAM-.\"\n",
    "\n",
    "# Construct the birdshot.query statement (as it would be used)\n",
    "query_statement = f\"birdshot.query('entry/search', parameters={{'query': '{query_string}', 'limit': 1000}})\"\n",
    "\n",
    "# Print the constructed query statement\n",
    "print(query_statement)\n"
   ]
  },
  {
   "cell_type": "code",
   "execution_count": null,
   "id": "338950a6-5f61-4d67-9b0d-84dd6a221909",
   "metadata": {},
   "outputs": [],
   "source": [
    "iteration = 'AAA'\n",
    "raw_data = client.get(\n",
    "        'entry/search', parameters={'query': f'^{iteration}.._VAM-.', 'limit': 1000}\n",
    ")\n",
    "raw_data[0][\"data\"]"
   ]
  },
  {
   "cell_type": "code",
   "execution_count": null,
   "id": "6dabb04f-eab1-40c6-bae1-2b6bd4971bed",
   "metadata": {},
   "outputs": [],
   "source": [
    "birdshot.query('entry/search', parameters={'query': '^AAA.._VAM-.', 'limit': 1000})"
   ]
  },
  {
   "cell_type": "code",
   "execution_count": null,
   "id": "e01fb629-07b1-4871-a453-ef407530b1bf",
   "metadata": {},
   "outputs": [],
   "source": []
  }
 ],
 "metadata": {
  "kernelspec": {
   "display_name": "Python (birdshot_api)",
   "language": "python",
   "name": "birdshot_api"
  },
  "language_info": {
   "codemirror_mode": {
    "name": "ipython",
    "version": 3
   },
   "file_extension": ".py",
   "mimetype": "text/x-python",
   "name": "python",
   "nbconvert_exporter": "python",
   "pygments_lexer": "ipython3",
   "version": "3.10.16"
  }
 },
 "nbformat": 4,
 "nbformat_minor": 5
}
