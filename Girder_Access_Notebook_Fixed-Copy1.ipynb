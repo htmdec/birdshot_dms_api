{
 "cells": [
  {
   "cell_type": "markdown",
   "id": "899ed996",
   "metadata": {},
   "source": [
    "# Accessing Girder Data with API Key\n",
    "This notebook demonstrates how to use the Girder Python client to connect to a Girder instance, list all collections, and query VAM data from iteration 1 (AAA) using the `/entry/search` endpoint.\n"
   ]
  },
  {
   "cell_type": "code",
   "execution_count": null,
   "id": "4c9f7deb",
   "metadata": {},
   "outputs": [],
   "source": [
    "# Install girder-client if needed\n",
    "#!pip install girder-client --quiet"
   ]
  },
  {
   "cell_type": "code",
   "execution_count": null,
   "id": "e84a6fc4",
   "metadata": {},
   "outputs": [],
   "source": [
    "from girder_client import GirderClient\n",
    "import json"
   ]
  },
  {
   "cell_type": "code",
   "execution_count": null,
   "id": "e411777f",
   "metadata": {},
   "outputs": [],
   "source": [
    "import os\n",
    "from girder_client import GirderClient\n",
    "\n",
    "# Load the environment variables\n",
    "GIRDER_API_URL = os.environ.get(\"GIRDER_API_URL\")\n",
    "GIRDER_KEY = os.environ.get(\"GIRDER_KEY\")\n",
    "\n",
    "# Now use them\n",
    "client = GirderClient(apiUrl=GIRDER_API_URL)\n",
    "client.authenticate(apiKey=GIRDER_KEY)"
   ]
  },
  {
   "cell_type": "code",
   "execution_count": null,
   "id": "216b6761",
   "metadata": {},
   "outputs": [],
   "source": [
    "# List all collections\n",
    "collections = client.get('collection')\n",
    "for col in collections:\n",
    "    print(f\"Collection: {col['name']} (ID: {col['_id']})\")"
   ]
  },
  {
   "cell_type": "code",
   "execution_count": null,
   "id": "d2af9589",
   "metadata": {},
   "outputs": [],
   "source": [
    "# Query VAM data for iteration 1 (AAA)\n",
    "# Replace 'Sample ID' with the actual key if needed\n",
    "search_result = client.sendRestRequest(\n",
    "    'POST', '/entry/search',\n",
    "    data=json.dumps({\n",
    "        'text': 'AAA',\n",
    "        'keys': ['Sample ID']\n",
    "    }),\n",
    "    headers={'Content-Type': 'application/json'}\n",
    ")\n",
    "\n",
    "# Display search results\n",
    "import pprint\n",
    "pprint.pprint(search_result)"
   ]
  }
 ],
 "metadata": {
  "kernelspec": {
   "display_name": "Python 3 (ipykernel)",
   "language": "python",
   "name": "python3"
  },
  "language_info": {
   "codemirror_mode": {
    "name": "ipython",
    "version": 3
   },
   "file_extension": ".py",
   "mimetype": "text/x-python",
   "name": "python",
   "nbconvert_exporter": "python",
   "pygments_lexer": "ipython3",
   "version": "3.9.18"
  }
 },
 "nbformat": 4,
 "nbformat_minor": 5
}
