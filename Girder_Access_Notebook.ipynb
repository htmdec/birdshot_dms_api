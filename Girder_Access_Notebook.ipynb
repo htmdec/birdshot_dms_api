{
 "cells": [
  {
   "cell_type": "markdown",
   "metadata": {},
   "source": [
    "# Accessing Girder Data with API Key\n",
    "This notebook demonstrates how to use the Girder Python client to connect to a Girder instance, list all collections, and query VAM data from iteration 1 (AAA) using the `/entry/search` endpoint."
   ]
  },
  {
   "cell_type": "code",
   "execution_count": null,
   "metadata": {},
   "outputs": [],
   "source": [
    "# Install girder-client if needed\n",
    "!pip install girder-client --quiet"
   ]
  },
  {
   "cell_type": "code",
   "execution_count": null,
   "metadata": {},
   "outputs": [],
   "source": [
    "from girder_client import GirderClient\n",
    "import json"
   ]
  },
  {
   "cell_type": "code",
   "execution_count": null,
   "metadata": {},
   "outputs": [],
   "source": [
    "# Connect to the Girder instance using the API key\n",
    "client = GirderClient(apiUrl='https://data.htmdec.org/api/v1')\n",
    "client.authenticate(apiKey='s6u5gYeQIunhjbc6XOXzV5tuEYSfdQn2ZWbaqJyU')"
   ]
  },
  {
   "cell_type": "code",
   "execution_count": null,
   "metadata": {},
   "outputs": [],
   "source": [
    "# List all collections\n",
    "collections = client.get('collection')\n",
    "for col in collections:\n",
    "    print(f"Collection: {col['name']} (ID: {col['_id']})")"
   ]
  },
  {
   "cell_type": "code",
   "execution_count": null,
   "metadata": {},
   "outputs": [],
   "source": [
    "# Query VAM data for iteration 1 (AAA)\n",
    "# Replace 'Sample ID' field name if necessary\n",
    "search_result = client.sendRestRequest(\n",
    "    'POST', '/entry/search',\n",
    "    data=json.dumps({\n",
    "        'text': 'AAA',\n",
    "        'keys': ['Sample ID']\n",
    "    }),\n",
    "    headers={'Content-Type': 'application/json'}\n",
    ")\n",
    "\n",
    "# Display search results\n",
    "import pprint\n",
    "pprint.pprint(search_result)"
   ]
  }
 ],
 "metadata": {
  "kernelspec": {
   "display_name": "Python 3",
   "language": "python",
   "name": "python3"
  },
  "language_info": {
   "name": "python",
   "version": ""
  }
 },
 "nbformat": 4,
 "nbformat_minor": 5
}
