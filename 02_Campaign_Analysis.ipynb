{
 "cells": [
  {
   "cell_type": "markdown",
   "id": "11898615-38ab-40b9-b321-c39f20732d85",
   "metadata": {},
   "source": [
    "# Example Campaign Analysis\n",
    "\n",
    "This example is intended to demonstrate implementation of the Contextualize Trend Analysis dashboard using the HTMDEC DMS API. This example uses [Plotly Dash](https://dash.plotly.com/) to create a dynamic visualization of the Campaign dataframe. Note that data is only complete for `AAA` and `AAB`."
   ]
  },
  {
   "cell_type": "code",
   "execution_count": 1,
   "id": "8eba5b2a-85ed-4da0-8576-e8494baf24a4",
   "metadata": {},
   "outputs": [
    {
     "ename": "NameError",
     "evalue": "name 'load_dotenv' is not defined",
     "output_type": "error",
     "traceback": [
      "\u001b[0;31m---------------------------------------------------------------------------\u001b[0m",
      "\u001b[0;31mNameError\u001b[0m                                 Traceback (most recent call last)",
      "Cell \u001b[0;32mIn[1], line 4\u001b[0m\n\u001b[1;32m      2\u001b[0m \u001b[38;5;28;01mimport\u001b[39;00m\u001b[38;5;250m \u001b[39m\u001b[38;5;21;01mos\u001b[39;00m\n\u001b[1;32m      3\u001b[0m \u001b[38;5;28;01mimport\u001b[39;00m\u001b[38;5;250m \u001b[39m\u001b[38;5;21;01mbirdshot\u001b[39;00m\n\u001b[0;32m----> 4\u001b[0m \u001b[43mload_dotenv\u001b[49m(\u001b[38;5;124m\"\u001b[39m\u001b[38;5;124m/home/arachid1/vars.env\u001b[39m\u001b[38;5;124m\"\u001b[39m)\n\u001b[1;32m      6\u001b[0m client \u001b[38;5;241m=\u001b[39m GirderClient(apiUrl\u001b[38;5;241m=\u001b[39mos\u001b[38;5;241m.\u001b[39mgetenv(\u001b[38;5;124m\"\u001b[39m\u001b[38;5;124mGIRDER_API_URL\u001b[39m\u001b[38;5;124m\"\u001b[39m))\n\u001b[1;32m      7\u001b[0m client\u001b[38;5;241m.\u001b[39mauthenticate(apiKey\u001b[38;5;241m=\u001b[39mos\u001b[38;5;241m.\u001b[39mgetenv(\u001b[38;5;124m\"\u001b[39m\u001b[38;5;124mGIRDER_API_KEY\u001b[39m\u001b[38;5;124m\"\u001b[39m))\n",
      "\u001b[0;31mNameError\u001b[0m: name 'load_dotenv' is not defined"
     ]
    }
   ],
   "source": [
    "from girder_client import GirderClient\n",
    "import os\n",
    "from dotenv import load_dotenv\n",
    "\n",
    "import birdshot\n",
    "load_dotenv(\"/home/arachid1/vars.env\")\n",
    "\n",
    "client = GirderClient(apiUrl=os.getenv(\"GIRDER_API_URL\"))\n",
    "client.authenticate(apiKey=os.getenv(\"GIRDER_API_KEY\"))\n",
    "\n",
    "birdshot.show_plot(client)"
   ]
  },
  {
   "cell_type": "markdown",
   "id": "9aeda008-e7bd-4cb6-b79d-b70812077a79",
   "metadata": {},
   "source": [
    "### errors: Two separate issues where no data is available or the column names are empty."
   ]
  }
 ],
 "metadata": {
  "kernelspec": {
   "display_name": "default",
   "language": "python",
   "name": "python3"
  },
  "language_info": {
   "codemirror_mode": {
    "name": "ipython",
    "version": 3
   },
   "file_extension": ".py",
   "mimetype": "text/x-python",
   "name": "python",
   "nbconvert_exporter": "python",
   "pygments_lexer": "ipython3",
   "version": "3.9.16"
  }
 },
 "nbformat": 4,
 "nbformat_minor": 5
}
