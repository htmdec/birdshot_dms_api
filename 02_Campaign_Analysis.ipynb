{
 "cells": [
  {
   "cell_type": "markdown",
   "id": "11898615-38ab-40b9-b321-c39f20732d85",
   "metadata": {},
   "source": [
    "# Example Campaign Analysis\n",
    "\n",
    "This example is intended to demonstrate implementation of the Contextualize Trend Analysis dashboard using the HTMDEC DMS API. This example uses [Plotly Dash](https://dash.plotly.com/) to create a dynamic visualization of the Campaign dataframe. Note that data is only complete for `AAA` and `AAB`."
   ]
  },
  {
   "cell_type": "code",
   "execution_count": null,
   "id": "9ff578ed-10e0-4c94-8e5b-864c1af2431a",
   "metadata": {},
   "outputs": [],
   "source": [
    "!export TMP_URL=localhost:8888"
   ]
  },
  {
   "cell_type": "code",
   "execution_count": 1,
   "id": "45e44dae-562c-4289-828b-5711a34a64bf",
   "metadata": {},
   "outputs": [
    {
     "name": "stderr",
     "output_type": "stream",
     "text": [
      "Address already in use\n",
      "Port 8050 is in use by another program. Either identify and stop that program, or start the server with a different port.\n"
     ]
    },
    {
     "ename": "SystemExit",
     "evalue": "1",
     "output_type": "error",
     "traceback": [
      "An exception has occurred, use %tb to see the full traceback.\n",
      "\u001b[0;31mSystemExit\u001b[0m\u001b[0;31m:\u001b[0m 1\n"
     ]
    },
    {
     "name": "stderr",
     "output_type": "stream",
     "text": [
      "/Users/elbert/miniconda3/envs/birdshot_api/lib/python3.10/site-packages/IPython/core/interactiveshell.py:3587: UserWarning:\n",
      "\n",
      "To exit: use 'exit', 'quit', or Ctrl-D.\n",
      "\n"
     ]
    }
   ],
   "source": [
    "import birdshot\n",
    "birdshot.show_plot()"
   ]
  },
  {
   "cell_type": "code",
   "execution_count": null,
   "id": "19c1d388-5187-42e4-832d-cd1c7aa5b0a9",
   "metadata": {},
   "outputs": [],
   "source": [
    "import os\n",
    "os.getpid()"
   ]
  },
  {
   "cell_type": "code",
   "execution_count": null,
   "id": "2f05cb54-1ce7-4826-8d3b-abb0e906be9f",
   "metadata": {},
   "outputs": [],
   "source": [
    "!lsof -i :8050"
   ]
  },
  {
   "cell_type": "code",
   "execution_count": null,
   "id": "bbed81cd-3410-425c-b304-4056f60a280d",
   "metadata": {},
   "outputs": [],
   "source": [
    "import birdshot\n",
    "import os\n",
    "import socket\n",
    "\n",
    "# Find a free port\n",
    "def get_free_port():\n",
    "    with socket.socket(socket.AF_INET, socket.SOCK_STREAM) as s:\n",
    "        s.bind(('', 0))  # Let OS pick an available port\n",
    "        return s.getsockname()[1]\n",
    "\n",
    "free_port = get_free_port()\n",
    "os.environ['TMP_URL'] = 'localhost:8888'  # This should match your running Jupyter server\n",
    "\n",
    "def patched_show_plot():\n",
    "    from dash import Dash\n",
    "    import dash_bootstrap_components as dbc\n",
    "\n",
    "    app = Dash(\n",
    "        __name__,\n",
    "        external_stylesheets=[dbc.themes.BOOTSTRAP, dbc.icons.FONT_AWESOME],\n",
    "        requests_pathname_prefix=f\"/proxy/{free_port}/\",\n",
    "    )\n",
    "    app.layout = birdshot.serve_layout\n",
    "    app.run(\n",
    "        debug=False,\n",
    "        jupyter_mode=\"jupyterlab\",\n",
    "        host=\"0.0.0.0\",\n",
    "        port=free_port,\n",
    "        jupyter_server_url=f\"http://{os.environ['TMP_URL']}/\",\n",
    "    )\n",
    "\n",
    "birdshot.show_plot = patched_show_plot\n",
    "birdshot.show_plot()\n"
   ]
  },
  {
   "cell_type": "code",
   "execution_count": null,
   "id": "8eba5b2a-85ed-4da0-8576-e8494baf24a4",
   "metadata": {},
   "outputs": [],
   "source": []
  }
 ],
 "metadata": {
  "kernelspec": {
   "display_name": "Python (birdshot_api)",
   "language": "python",
   "name": "birdshot_api"
  },
  "language_info": {
   "codemirror_mode": {
    "name": "ipython",
    "version": 3
   },
   "file_extension": ".py",
   "mimetype": "text/x-python",
   "name": "python",
   "nbconvert_exporter": "python",
   "pygments_lexer": "ipython3",
   "version": "3.10.16"
  }
 },
 "nbformat": 4,
 "nbformat_minor": 5
}
