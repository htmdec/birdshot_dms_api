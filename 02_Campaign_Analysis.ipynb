{
 "cells": [
  {
   "cell_type": "markdown",
   "id": "11898615-38ab-40b9-b321-c39f20732d85",
   "metadata": {},
   "source": [
    "# Example Campaign Analysis\n",
    "\n",
    "This example is intended to demonstrate implementation of the Contextualize Trend Analysis dashboard using the HTMDEC DMS API. This example uses [Plotly Dash](https://dash.plotly.com/) to create a dynamic visualization of the Campaign dataframe. Note that data is only complete for `AAA` and `AAB`."
   ]
  },
  {
   "cell_type": "code",
   "execution_count": 1,
   "id": "8eba5b2a-85ed-4da0-8576-e8494baf24a4",
   "metadata": {},
   "outputs": [],
   "source": [
    "from girder_client import GirderClient\n",
    "import os\n",
    "import birdshot"
   ]
  },
  {
   "cell_type": "code",
   "execution_count": 2,
   "id": "fdfe14a3-77dd-4213-afbd-b1a7bef7e05f",
   "metadata": {},
   "outputs": [
    {
     "data": {
      "text/plain": [
       "{'_id': '6424afee4236ff9b0883f24b'}"
      ]
     },
     "execution_count": 2,
     "metadata": {},
     "output_type": "execute_result"
    }
   ],
   "source": [
    "client = GirderClient(apiUrl=os.environ['GIRDER_API_URL'])\n",
    "client.authenticate(apiKey=os.environ[\"GIRDER_API_KEY\"])"
   ]
  },
  {
   "cell_type": "code",
   "execution_count": 3,
   "id": "59f610dc-bf92-47a3-af16-421aaa5f2567",
   "metadata": {},
   "outputs": [
    {
     "data": {
      "text/html": [
       "\n",
       "        <iframe\n",
       "            width=\"100%\"\n",
       "            height=\"650\"\n",
       "            src=\"http://localhost:8050/\"\n",
       "            frameborder=\"0\"\n",
       "            allowfullscreen\n",
       "            \n",
       "        ></iframe>\n",
       "        "
      ],
      "text/plain": [
       "<IPython.lib.display.IFrame at 0x7ffb2af9c4c0>"
      ]
     },
     "metadata": {},
     "output_type": "display_data"
    },
    {
     "data": {
      "text/plain": [
       "<dash.dash.Dash at 0x7ffb7c2610a0>"
      ]
     },
     "execution_count": 3,
     "metadata": {},
     "output_type": "execute_result"
    }
   ],
   "source": [
    "birdshot.show_plot(client)"
   ]
  },
  {
   "cell_type": "code",
   "execution_count": null,
   "id": "9df3a36f-5888-47d8-bf71-59e68b048114",
   "metadata": {},
   "outputs": [],
   "source": []
  }
 ],
 "metadata": {
  "kernelspec": {
   "display_name": "Python 3 (ipykernel)",
   "language": "python",
   "name": "python3"
  },
  "language_info": {
   "codemirror_mode": {
    "name": "ipython",
    "version": 3
   },
   "file_extension": ".py",
   "mimetype": "text/x-python",
   "name": "python",
   "nbconvert_exporter": "python",
   "pygments_lexer": "ipython3",
   "version": "3.8.13"
  }
 },
 "nbformat": 4,
 "nbformat_minor": 5
}
