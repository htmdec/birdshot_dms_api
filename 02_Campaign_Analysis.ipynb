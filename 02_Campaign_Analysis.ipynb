{
 "cells": [
  {
   "cell_type": "markdown",
   "id": "11898615-38ab-40b9-b321-c39f20732d85",
   "metadata": {},
   "source": [
    "# Example Campaign Analysis\n",
    "\n",
    "This example is intended to demonstrate implementation of the Contextualize Trend Analysis dashboard using the HTMDEC DMS API. This example uses [Plotly Dash](https://dash.plotly.com/) to create a dynamic visualization of the Campaign dataframe. Note that data is only complete for `AAA` and `AAB`."
   ]
  },
  {
   "cell_type": "code",
   "execution_count": 1,
   "id": "8eba5b2a-85ed-4da0-8576-e8494baf24a4",
   "metadata": {},
   "outputs": [
    {
     "data": {
      "text/html": [
       "\n",
       "        <iframe\n",
       "            width=\"100%\"\n",
       "            height=\"650\"\n",
       "            src=\"http://localhost:8050/\"\n",
       "            frameborder=\"0\"\n",
       "            allowfullscreen\n",
       "            \n",
       "        ></iframe>\n",
       "        "
      ],
      "text/plain": [
       "<IPython.lib.display.IFrame at 0x7f3f59f76e20>"
      ]
     },
     "metadata": {},
     "output_type": "display_data"
    },
    {
     "data": {
      "text/plain": [
       "<dash.dash.Dash at 0x7f3fa49e7c40>"
      ]
     },
     "execution_count": 1,
     "metadata": {},
     "output_type": "execute_result"
    }
   ],
   "source": [
    "from girder_client import GirderClient\n",
    "import os\n",
    "import birdshot\n",
    "\n",
    "client = GirderClient(apiUrl=\"https://data.htmdec.org/api/v1\")\n",
    "client.authenticate(apiKey=\"MFfpVN81hmOaUV7cTGsovnzdr0iB87ygR0RxkDYA\")\n",
    "\n",
    "birdshot2.show_plot(client)"
   ]
  },
  {
   "cell_type": "code",
   "execution_count": null,
   "id": "3d648798",
   "metadata": {},
   "outputs": [],
   "source": []
  },
  {
   "cell_type": "markdown",
   "id": "9aeda008-e7bd-4cb6-b79d-b70812077a79",
   "metadata": {},
   "source": [
    "### errors: Two separate issues where no data is available or the column names are empty."
   ]
  }
 ],
 "metadata": {
  "kernelspec": {
   "display_name": "default",
   "language": "python",
   "name": "python3"
  },
  "language_info": {
   "codemirror_mode": {
    "name": "ipython",
    "version": 3
   },
   "file_extension": ".py",
   "mimetype": "text/x-python",
   "name": "python",
   "nbconvert_exporter": "python",
   "pygments_lexer": "ipython3",
   "version": "3.9.16"
  }
 },
 "nbformat": 4,
 "nbformat_minor": 5
}
