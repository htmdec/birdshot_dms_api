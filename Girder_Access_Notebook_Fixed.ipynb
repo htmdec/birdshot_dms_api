{
 "cells": [
  {
   "cell_type": "markdown",
   "id": "899ed996",
   "metadata": {},
   "source": [
    "# Accessing Girder Data with API Key\n",
    "This notebook demonstrates how to use the Girder Python client to connect to a Girder instance, list all collections, and query VAM data from iteration 1 (AAA) using the `/entry/search` endpoint.\n"
   ]
  },
  {
   "cell_type": "code",
   "execution_count": null,
   "id": "4c9f7deb",
   "metadata": {},
   "outputs": [],
   "source": [
    "# Install girder-client if needed\n",
    "#!pip install girder-client --quiet"
   ]
  },
  {
   "cell_type": "code",
   "execution_count": 1,
   "id": "e84a6fc4",
   "metadata": {},
   "outputs": [],
   "source": [
    "from girder_client import GirderClient\n",
    "import json"
   ]
  },
  {
   "cell_type": "code",
   "execution_count": 2,
   "id": "1cb63447-9d95-46b8-8e36-61894a348967",
   "metadata": {},
   "outputs": [
    {
     "data": {
      "text/plain": [
       "{'_id': '6424ac394236ff9b0883f243'}"
      ]
     },
     "execution_count": 2,
     "metadata": {},
     "output_type": "execute_result"
    }
   ],
   "source": [
    "import os\n",
    "from girder_client import GirderClient\n",
    "\n",
    "# Load the environment variables\n",
    "GIRDER_API_URL = os.environ.get(\"GIRDER_API_URL\")\n",
    "GIRDER_KEY = os.environ.get(\"GIRDER_KEY\")\n",
    "\n",
    "# Now use them\n",
    "client = GirderClient(apiUrl=GIRDER_API_URL)\n",
    "client.authenticate(apiKey=GIRDER_KEY)"
   ]
  },
  {
   "cell_type": "code",
   "execution_count": 3,
   "id": "216b6761",
   "metadata": {},
   "outputs": [
    {
     "name": "stdout",
     "output_type": "stream",
     "text": [
      "Collection: 2. AI/ML and UQ (ID: 67905deba1b0b3735eefcb03)\n",
      "Collection: AIMD-L (ID: 665de536bcc722774ce53754)\n",
      "Collection: BIRDSHOT (Center) (ID: 64245a5d4236ff9b0883e926)\n",
      "Collection: Caltech Seedling (ID: 6424ca4f4236ff9b0883f2f9)\n",
      "Collection: DEMCCDF (ID: 67c1cce044f9c11af77af052)\n",
      "Collection: DEVCOM ARL/USNA Seedling (ID: 6424c9fc4236ff9b0883f2f5)\n",
      "Collection: DEVCOM ARL/WSD/TED Seedling (ID: 6424c9c34236ff9b0883f2f3)\n",
      "Collection: DiMarco et al 2023 (ID: 6425a25b451ac6d71ef10cc6)\n",
      "Collection: GE Seedling (HOST) (ID: 6424c28a4236ff9b0883f2f1)\n",
      "Collection: GT/JHU/TAMU Seedling (ID: 6424ca814236ff9b0883f2fb)\n",
      "Collection: HT-MAX Document Archive (ID: 659ed73160662ef084f6b384)\n",
      "Collection: Homepage Assets (ID: 63f39b92136a406bf62cbe9b)\n",
      "Collection: JHU/UCSB Seedling (ID: 654a4d4615a62d3ccbc98bf6)\n",
      "Collection: JHU/UCSB Seedling (DMREF) (ID: 641893b1a82b019cd3c7005e)\n",
      "Collection: Malone Lab (ID: 67af753de971b8b813828d6f)\n",
      "Collection: Mangal et al 2018 (ID: 642b4c17f96e9ee368160974)\n",
      "Collection: NIST (ID: 65ea381860662ef084f6b6d6)\n",
      "Collection: PRECIP : Parametrizing REalistic Crystallographic Interface Properties (ID: 66fae6d997930f6e9db881ba)\n",
      "Collection: PWanchoo et al 2024 (ID: 666b31febcc722774ce5375a)\n",
      "Collection: Purdue/Northwestern Seedling (ID: 642459f84236ff9b0883e925)\n",
      "Collection: TAMU_Forms_Test (ID: 660b2fa6aede93de0c9ccd68)\n",
      "Collection: TAMU_old (ID: 660c2213aede93de0c9ccd7f)\n",
      "Collection: Tutorial Collection (ID: 6569b4b43ba9af3ab20603d1)\n",
      "Collection: UCSD Seedling (HT-READ) (ID: 6424ca2c4236ff9b0883f2f7)\n",
      "Collection: UML/UTK Seedling (ID: 6424c2364236ff9b0883f2ef)\n",
      "Collection: WholeTale Assets (ID: 64234d744236ff9b0883e86f)\n",
      "Collection: WholeTale Catalog (ID: 6411ff5a50cb1694e2b4dfda)\n",
      "Collection: WholeTale Tale Runs (ID: 6406260e136a406bf62cbeb9)\n",
      "Collection: WholeTale Tale Versions (ID: 6406260e136a406bf62cbeb6)\n",
      "Collection: WholeTale Workspaces (ID: 6406260e136a406bf62cbeb3)\n",
      "Collection: demo (ID: 6720f1871458aae7d47c9746)\n",
      "Collection: maap_images (ID: 666c55bdbcc722774ce5375f)\n",
      "Collection: sl_1 (ID: 6671b8c4bcc722774ce53770)\n",
      "Collection: uml (ID: 67040a7e97930f6e9db881c3)\n"
     ]
    }
   ],
   "source": [
    "# List all collections\n",
    "collections = client.get('collection')\n",
    "for col in collections:\n",
    "    print(f\"Collection: {col['name']} (ID: {col['_id']})\")"
   ]
  },
  {
   "cell_type": "code",
   "execution_count": 6,
   "id": "d2af9589",
   "metadata": {},
   "outputs": [
    {
     "ename": "HttpError",
     "evalue": "HTTP error 400: POST https://data.htmdec.org/api/v1//entry/search\nResponse text: {\"message\": \"No matching route for \\\"POST search\\\"\", \"type\": \"rest\"}",
     "output_type": "error",
     "traceback": [
      "\u001b[0;31m---------------------------------------------------------------------------\u001b[0m",
      "\u001b[0;31mHttpError\u001b[0m                                 Traceback (most recent call last)",
      "Cell \u001b[0;32mIn[6], line 3\u001b[0m\n\u001b[1;32m      1\u001b[0m \u001b[38;5;66;03m# Query VAM data for iteration 1 (AAA)\u001b[39;00m\n\u001b[1;32m      2\u001b[0m \u001b[38;5;66;03m# Replace 'Sample ID' with the actual key if needed\u001b[39;00m\n\u001b[0;32m----> 3\u001b[0m search_result \u001b[38;5;241m=\u001b[39m \u001b[43mclient\u001b[49m\u001b[38;5;241;43m.\u001b[39;49m\u001b[43msendRestRequest\u001b[49m\u001b[43m(\u001b[49m\n\u001b[1;32m      4\u001b[0m \u001b[43m    \u001b[49m\u001b[38;5;124;43m'\u001b[39;49m\u001b[38;5;124;43mPOST\u001b[39;49m\u001b[38;5;124;43m'\u001b[39;49m\u001b[43m,\u001b[49m\u001b[43m \u001b[49m\u001b[38;5;124;43m'\u001b[39;49m\u001b[38;5;124;43m/entry/search\u001b[39;49m\u001b[38;5;124;43m'\u001b[39;49m\u001b[43m,\u001b[49m\n\u001b[1;32m      5\u001b[0m \u001b[43m    \u001b[49m\u001b[43mdata\u001b[49m\u001b[38;5;241;43m=\u001b[39;49m\u001b[43mjson\u001b[49m\u001b[38;5;241;43m.\u001b[39;49m\u001b[43mdumps\u001b[49m\u001b[43m(\u001b[49m\u001b[43m{\u001b[49m\n\u001b[1;32m      6\u001b[0m \u001b[43m        \u001b[49m\u001b[38;5;124;43m'\u001b[39;49m\u001b[38;5;124;43mtext\u001b[39;49m\u001b[38;5;124;43m'\u001b[39;49m\u001b[43m:\u001b[49m\u001b[43m \u001b[49m\u001b[38;5;124;43m'\u001b[39;49m\u001b[38;5;124;43mAAA\u001b[39;49m\u001b[38;5;124;43m'\u001b[39;49m\u001b[43m,\u001b[49m\n\u001b[1;32m      7\u001b[0m \u001b[43m        \u001b[49m\u001b[38;5;124;43m'\u001b[39;49m\u001b[38;5;124;43mkeys\u001b[39;49m\u001b[38;5;124;43m'\u001b[39;49m\u001b[43m:\u001b[49m\u001b[43m \u001b[49m\u001b[43m[\u001b[49m\u001b[38;5;124;43m'\u001b[39;49m\u001b[38;5;124;43mSample ID\u001b[39;49m\u001b[38;5;124;43m'\u001b[39;49m\u001b[43m]\u001b[49m\n\u001b[1;32m      8\u001b[0m \u001b[43m    \u001b[49m\u001b[43m}\u001b[49m\u001b[43m)\u001b[49m\u001b[43m,\u001b[49m\n\u001b[1;32m      9\u001b[0m \u001b[43m    \u001b[49m\u001b[43mheaders\u001b[49m\u001b[38;5;241;43m=\u001b[39;49m\u001b[43m{\u001b[49m\u001b[38;5;124;43m'\u001b[39;49m\u001b[38;5;124;43mContent-Type\u001b[39;49m\u001b[38;5;124;43m'\u001b[39;49m\u001b[43m:\u001b[49m\u001b[43m \u001b[49m\u001b[38;5;124;43m'\u001b[39;49m\u001b[38;5;124;43mapplication/json\u001b[39;49m\u001b[38;5;124;43m'\u001b[39;49m\u001b[43m}\u001b[49m\n\u001b[1;32m     10\u001b[0m \u001b[43m)\u001b[49m\n\u001b[1;32m     12\u001b[0m \u001b[38;5;66;03m# Display search results\u001b[39;00m\n\u001b[1;32m     13\u001b[0m \u001b[38;5;28;01mimport\u001b[39;00m \u001b[38;5;21;01mpprint\u001b[39;00m\n",
      "File \u001b[0;32m~/miniconda3/envs/short_course/lib/python3.9/site-packages/girder_client/__init__.py:462\u001b[0m, in \u001b[0;36mGirderClient.sendRestRequest\u001b[0;34m(self, method, path, parameters, data, files, json, headers, jsonResp, **kwargs)\u001b[0m\n\u001b[1;32m    460\u001b[0m         \u001b[38;5;28;01mreturn\u001b[39;00m result\n\u001b[1;32m    461\u001b[0m \u001b[38;5;28;01melse\u001b[39;00m:\n\u001b[0;32m--> 462\u001b[0m     \u001b[38;5;28;01mraise\u001b[39;00m HttpError(\n\u001b[1;32m    463\u001b[0m         status\u001b[38;5;241m=\u001b[39mresult\u001b[38;5;241m.\u001b[39mstatus_code, url\u001b[38;5;241m=\u001b[39mresult\u001b[38;5;241m.\u001b[39murl, method\u001b[38;5;241m=\u001b[39mmethod, text\u001b[38;5;241m=\u001b[39mresult\u001b[38;5;241m.\u001b[39mtext,\n\u001b[1;32m    464\u001b[0m         response\u001b[38;5;241m=\u001b[39mresult)\n",
      "\u001b[0;31mHttpError\u001b[0m: HTTP error 400: POST https://data.htmdec.org/api/v1//entry/search\nResponse text: {\"message\": \"No matching route for \\\"POST search\\\"\", \"type\": \"rest\"}"
     ]
    }
   ],
   "source": [
    "# Query VAM data for iteration 1 (AAA)\n",
    "# Replace 'Sample ID' with the actual key if needed\n",
    "search_result = client.sendRestRequest(\n",
    "    'POST', '/entry/search',\n",
    "    data=json.dumps({\n",
    "        'text': 'AAA',\n",
    "        'keys': ['Sample ID']\n",
    "    }),\n",
    "    headers={'Content-Type': 'application/json'}\n",
    ")\n",
    "\n",
    "# Display search results\n",
    "import pprint\n",
    "pprint.pprint(search_result)"
   ]
  },
  {
   "cell_type": "code",
   "execution_count": null,
   "id": "b66d82c2-044b-4e57-b5d7-131eab4abe18",
   "metadata": {},
   "outputs": [],
   "source": []
  }
 ],
 "metadata": {
  "kernelspec": {
   "display_name": "Python 3 (ipykernel)",
   "language": "python",
   "name": "python3"
  },
  "language_info": {
   "codemirror_mode": {
    "name": "ipython",
    "version": 3
   },
   "file_extension": ".py",
   "mimetype": "text/x-python",
   "name": "python",
   "nbconvert_exporter": "python",
   "pygments_lexer": "ipython3",
   "version": "3.9.18"
  }
 },
 "nbformat": 4,
 "nbformat_minor": 5
}
