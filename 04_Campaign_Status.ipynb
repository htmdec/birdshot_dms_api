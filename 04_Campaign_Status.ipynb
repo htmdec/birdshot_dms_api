{
 "cells": [
  {
   "cell_type": "code",
   "execution_count": 1,
   "metadata": {},
   "outputs": [],
   "source": [
    "from girder_client import GirderClient\n",
    "import pandas as pd\n",
    "import birdshot\n",
    "import re\n",
    "from collections import defaultdict"
   ]
  },
  {
   "cell_type": "code",
   "execution_count": 2,
   "metadata": {},
   "outputs": [
    {
     "data": {
      "text/plain": [
       "{'_id': '6424afee4236ff9b0883f24b'}"
      ]
     },
     "execution_count": 2,
     "metadata": {},
     "output_type": "execute_result"
    }
   ],
   "source": [
    "# Authenticate with GirderClient\n",
    "client = GirderClient(apiUrl=\"https://data.htmdec.org/api/v1\")\n",
    "client.authenticate(apiKey=\"MFfpVN81hmOaUV7cTGsovnzdr0iB87ygR0RxkDYA\")"
   ]
  },
  {
   "cell_type": "code",
   "execution_count": 3,
   "metadata": {},
   "outputs": [],
   "source": [
    "\n",
    "def summarize_presence_by_sample(df: pd.DataFrame, campaign: str, group_prefixes=None) -> pd.DataFrame:\n",
    "    if group_prefixes is None:\n",
    "        group_prefixes = [\n",
    "            'Elastic Modulus', 'Elongation', 'Maximum ∂2σ/∂ε2',\n",
    "            'UTS/YS Ratio', 'Ultimate Tensile Strength', 'Yield Strength'\n",
    "        ]\n",
    "\n",
    "    grouped_columns = defaultdict(list)\n",
    "    single_columns = []\n",
    "\n",
    "    for col in df.columns:\n",
    "        for prefix in group_prefixes:\n",
    "            pattern = re.compile(rf'^{re.escape(prefix)}\\.([a-zA-Z])$')\n",
    "            match = pattern.match(col)\n",
    "            if match:\n",
    "                suffix = match.group(1)\n",
    "                grouped_columns[prefix].append((col, suffix))\n",
    "                break\n",
    "        else:\n",
    "            single_columns.append(col)\n",
    "\n",
    "    summary_rows = []\n",
    "\n",
    "    for idx, row in df.iterrows():\n",
    "        sample_id = row.name if df.index.name else idx\n",
    "        entry = {\"Sample\": sample_id}\n",
    "\n",
    "        # Grouped columns: summarize which subsamples exist\n",
    "        for prefix, cols in grouped_columns.items():\n",
    "            present_suffixes = [suffix for col, suffix in cols if pd.notna(row[col])]\n",
    "            entry[prefix] = \", \".join(sorted(present_suffixes)) if present_suffixes else \"None\"\n",
    "\n",
    "        # Non-grouped columns\n",
    "        for col in single_columns:\n",
    "            entry[col] = \"Yes\" if pd.notna(row[col]) else \"No\"\n",
    "\n",
    "        summary_rows.append(entry)\n",
    "\n",
    "    # Add summary row per campaign\n",
    "    summary = {\"Sample\": campaign}\n",
    "    total_rows = df.shape[0]\n",
    "\n",
    "    for prefix, cols in grouped_columns.items():\n",
    "        total_possible = total_rows * len(cols)\n",
    "        total_present = sum(pd.notna(df[col]).sum() for col, _ in cols)\n",
    "        summary[prefix] = f\"{total_present}/{total_possible}\"\n",
    "\n",
    "    for col in single_columns:\n",
    "        total_present = pd.notna(df[col]).sum()\n",
    "        summary[col] = f\"{total_present}/{total_rows}\"\n",
    "\n",
    "    summary_rows.append(summary)\n",
    "\n",
    "    return pd.DataFrame(summary_rows)"
   ]
  },
  {
   "cell_type": "code",
   "execution_count": 4,
   "metadata": {},
   "outputs": [],
   "source": [
    "campaign = 'CBA'\n",
    "df = birdshot.query(campaign=campaign, client=client)\n",
    "summary_df = summarize_presence_by_sample(df, campaign)\n",
    "summary_df.to_csv(f\"{campaign}_presence_summary.csv\", index=False)"
   ]
  }
 ],
 "metadata": {
  "kernelspec": {
   "display_name": "default",
   "language": "python",
   "name": "python3"
  },
  "language_info": {
   "codemirror_mode": {
    "name": "ipython",
    "version": 3
   },
   "file_extension": ".py",
   "mimetype": "text/x-python",
   "name": "python",
   "nbconvert_exporter": "python",
   "pygments_lexer": "ipython3",
   "version": "3.9.16"
  }
 },
 "nbformat": 4,
 "nbformat_minor": 2
}
