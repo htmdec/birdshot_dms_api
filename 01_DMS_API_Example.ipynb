{
 "cells": [
  {
   "cell_type": "markdown",
   "id": "3372a249-9215-4441-b2d4-d1561a23e22d",
   "metadata": {},
   "source": [
    "# HTMDEC DMS API Example\n",
    "\n",
    "This example demonstrates how to use the new HTMDEC DMS `/form` and `/entry` REST API endpoints to search for BIRDSHOT data which can be converted to a Pandas dataframe for analysis and visualization. \n",
    "\n",
    "The `birdshot.py` module implements some example utility functions for querying, analyzing, and visualizing BIRDSHOT data."
   ]
  },
  {
   "cell_type": "markdown",
   "id": "74fc79a9-d46b-4cd4-888c-61d925acc753",
   "metadata": {},
   "source": [
    "### Note:\n",
    "During the ingest process, form data collected by Contextualize in the Campaign 1 structure was converted to the [Campaign 2 structure](https://docs.google.com/document/d/1FpiXwLQi8QAOuLB0Xr80V14qGfqtyCpT/edit). This means that:\n",
    "* Sample IDs were converted to the Campaign 2 structure \n",
    "* Campaign 1 \"child\" sample numbers (T*nn*) have been replaced with ordinal letters (a, b, c, ...)\n"
   ]
  },
  {
   "cell_type": "markdown",
   "id": "0a32df52-f570-4995-a7f0-4300e9627e07",
   "metadata": {},
   "source": [
    "### Using the REST API\n",
    "\n",
    "The [Girder Client](https://girder.readthedocs.io/en/latest/python-client.html) can be used to query the REST endpoints directly. When running via the DMS, the API URL and user token required for access are available in the current environment.\n"
   ]
  },
  {
   "cell_type": "code",
   "execution_count": 10,
   "id": "489b86b5-91ba-4b13-a039-9b7ebc8a20cf",
   "metadata": {},
   "outputs": [],
   "source": [
    "from girder_client import GirderClient\n",
    "import os\n",
    "\n",
    "client = GirderClient(apiUrl=os.environ['GIRDER_API_URL'])\n",
    "client.token = os.environ['GIRDER_TOKEN']"
   ]
  },
  {
   "cell_type": "markdown",
   "id": "c75ac11d-7e0c-45dc-a5e0-b9245cdf16b8",
   "metadata": {},
   "source": [
    "To query VAM data from iteration 1 (AAA) across all forms, use the `/entry/search` endpoint to query the Sample ID. Data is returned in JSON:"
   ]
  },
  {
   "cell_type": "code",
   "execution_count": 8,
   "id": "00ce9006-eb27-4d91-8844-250faf8f276e",
   "metadata": {},
   "outputs": [
    {
     "data": {
      "text/plain": [
       "{'Forging': {'Ingot Condition': {'Soak Time': 0, 'Temperature': 25},\n",
       "  'Ingot Dimensions After': {'Length': 63.57,\n",
       "   'Thickness': 4.92,\n",
       "   'Thickness Reduction': -61.13744075829384,\n",
       "   'Width': 15},\n",
       "  'Ingot Dimensions Before': {'Length': 38.83,\n",
       "   'Thickness': 12.66,\n",
       "   'Width': 14.57},\n",
       "  'Maximum Load': [{'Maximum Load Step': 0}],\n",
       "  'Press Temperature': 25,\n",
       "  'Process Overview': {'Completed By': 'unknown',\n",
       "   'Finish Date': '2024-04-30',\n",
       "   'Start Date': '2024-04-01',\n",
       "   'Time Spent': '5:00'}},\n",
       " 'Homogenization': {'Process Overview': {'Completed By': 'unknown',\n",
       "   'Finish Date': '2024-04-30',\n",
       "   'Start Date': '2024-04-01',\n",
       "   'Time Spent': '5:00'},\n",
       "  'Purging Sequence Pressure': {'1': 0, '2': 0, '3': 0, '4': 0},\n",
       "  'Thermal Conditions': {'Atmosphere': 'Ar',\n",
       "   'Cooling Rate': 'FC',\n",
       "   'Duration': 24,\n",
       "   'Pressure': 0,\n",
       "   'Temperature': 1150}},\n",
       " 'Notes': '',\n",
       " 'sampleId': 'BBB01_VAM-A',\n",
       " 'suffix': 'Syn',\n",
       " 'targetPath': 'BBB/VAM-A/BBB01/Syn'}"
      ]
     },
     "execution_count": 8,
     "metadata": {},
     "output_type": "execute_result"
    }
   ],
   "source": [
    "iteration = 'BBB'\n",
    "raw_data = client.get(\n",
    "        'entry/search', parameters={'query': f'^{iteration}.._VAM-.', 'limit': 1000}\n",
    ")\n",
    "raw_data[0][\"data\"]"
   ]
  },
  {
   "cell_type": "markdown",
   "id": "2a1d31d9-9cd8-4d4d-9e91-2608e746aaba",
   "metadata": {},
   "source": [
    "Use the `/form` and `entry` endpoints to query data from a specific form:"
   ]
  },
  {
   "cell_type": "code",
   "execution_count": 3,
   "id": "cebcd93f-e8ed-4398-a72c-f6bdf969311f",
   "metadata": {},
   "outputs": [
    {
     "data": {
      "text/plain": [
       "{'Completed By': 'Daniel & Wenle',\n",
       " 'End Date': '2022-12-13',\n",
       " 'File Upload': {'file': '',\n",
       "  'sampleId': 'AAB06_VAM-A_Tensile_a',\n",
       "  'targetPath': 'AAB/VAM-A/AAB06/Tensile/a'},\n",
       " 'Modulus Check': {'Force Rate': 10, 'Max Force': 686, 'Max Stress': 225},\n",
       " 'Notes': '',\n",
       " 'Results': {'Elastic Modulus': 252,\n",
       "  'Elongation': 28,\n",
       "  'Maximum ∂2σ/∂ε2': -1529,\n",
       "  'UTS/YS Ratio': '1.6794871794871795',\n",
       "  'Ultimate Tensile Strength': 917,\n",
       "  'Yield Strength': 546},\n",
       " 'Sample Dimensions': {'Area': '3.0488',\n",
       "  'Gauge Length': 8,\n",
       "  'Thickness': 1.03,\n",
       "  'Width': 2.96},\n",
       " 'Start Date': '2022-11-15',\n",
       " 'Time Spent': '0:04',\n",
       " 'sampleId': 'AAB06_VAM-A_Tensile_a',\n",
       " 'suffix': 'Tensile',\n",
       " 'targetPath': 'AAB/VAM-A/AAB06/Tensile/a'}"
      ]
     },
     "execution_count": 3,
     "metadata": {},
     "output_type": "execute_result"
    }
   ],
   "source": [
    "form_name = 'tensile-details.json'\n",
    "form = client.get('form', parameters={'entryFileName': form_name, 'limit': 1000})\n",
    "form[0]['_id']\n",
    "\n",
    "tensile_data = client.get('entry', parameters={'formId': form[0]['_id'], 'limit': 1000})\n",
    "tensile_data[0][\"data\"]"
   ]
  },
  {
   "cell_type": "markdown",
   "id": "2d796ad8-60d4-4276-934a-775bc72fd589",
   "metadata": {},
   "source": [
    "### Using the `birdshot` Module\n",
    "\n",
    "The `birdshot.py` module implements a few helper functions to query the REST API and convert data into a single Pandas dataframe for analysis:"
   ]
  },
  {
   "cell_type": "code",
   "execution_count": 13,
   "id": "f33ebf7d-c4f5-48ea-af03-9b39309b8c15",
   "metadata": {},
   "outputs": [],
   "source": [
    "import birdshot"
   ]
  },
  {
   "cell_type": "markdown",
   "id": "1650b955-713a-4f58-8e8e-197382639d8f",
   "metadata": {},
   "source": [
    "The `query()` method takes the iteration identifier as an argument and returns a dataframe of results from multiple characterization methods. The example dataframe is intended to reproduce the information available in the Summary Synthesis Results (for example see [HTMDEC AAB Summary Synthesis Results](https://docs.google.com/spreadsheets/d/15cdImpOComsvUpAIq20_nyff65WVzN_q/))."
   ]
  },
  {
   "cell_type": "code",
   "execution_count": 17,
   "id": "e1b3506d-f5d3-485f-b9ef-3aab5898ceec",
   "metadata": {},
   "outputs": [
    {
     "ename": "KeyError",
     "evalue": "\"Only a column name can be used for the key in a dtype mappings argument. 'UTS/YS Ratio.a' not found in columns.\"",
     "output_type": "error",
     "traceback": [
      "\u001b[0;31m---------------------------------------------------------------------------\u001b[0m",
      "\u001b[0;31mKeyError\u001b[0m                                  Traceback (most recent call last)",
      "Cell \u001b[0;32mIn [17], line 1\u001b[0m\n\u001b[0;32m----> 1\u001b[0m df \u001b[38;5;241m=\u001b[39m \u001b[43mbirdshot\u001b[49m\u001b[38;5;241;43m.\u001b[39;49m\u001b[43mquery\u001b[49m\u001b[43m(\u001b[49m\u001b[38;5;124;43m\"\u001b[39;49m\u001b[38;5;124;43mBBB\u001b[39;49m\u001b[38;5;124;43m\"\u001b[39;49m\u001b[43m)\u001b[49m\n\u001b[1;32m      2\u001b[0m df\n",
      "File \u001b[0;32m~/work/workspace/birdshot.py:71\u001b[0m, in \u001b[0;36mquery\u001b[0;34m(campaign)\u001b[0m\n\u001b[1;32m     64\u001b[0m             \u001b[38;5;28;01mcontinue\u001b[39;00m\n\u001b[1;32m     67\u001b[0m types \u001b[38;5;241m=\u001b[39m {\n\u001b[1;32m     68\u001b[0m     \u001b[38;5;124m'\u001b[39m\u001b[38;5;124mUTS/YS Ratio.a\u001b[39m\u001b[38;5;124m'\u001b[39m: \u001b[38;5;28mfloat\u001b[39m,\n\u001b[1;32m     69\u001b[0m     \u001b[38;5;124m'\u001b[39m\u001b[38;5;124mUTS/YS Ratio.b\u001b[39m\u001b[38;5;124m'\u001b[39m: \u001b[38;5;28mfloat\u001b[39m\n\u001b[1;32m     70\u001b[0m }\n\u001b[0;32m---> 71\u001b[0m df \u001b[38;5;241m=\u001b[39m \u001b[43mpd\u001b[49m\u001b[38;5;241;43m.\u001b[39;49m\u001b[43mDataFrame\u001b[49m\u001b[38;5;241;43m.\u001b[39;49m\u001b[43mfrom_dict\u001b[49m\u001b[43m(\u001b[49m\u001b[43mdata\u001b[49m\u001b[43m,\u001b[49m\u001b[43m \u001b[49m\u001b[43morient\u001b[49m\u001b[38;5;241;43m=\u001b[39;49m\u001b[38;5;124;43m'\u001b[39;49m\u001b[38;5;124;43mindex\u001b[39;49m\u001b[38;5;124;43m'\u001b[39;49m\u001b[43m)\u001b[49m\u001b[38;5;241;43m.\u001b[39;49m\u001b[43mastype\u001b[49m\u001b[43m(\u001b[49m\u001b[43mtypes\u001b[49m\u001b[43m)\u001b[49m\n\u001b[1;32m     72\u001b[0m \u001b[38;5;28;01mreturn\u001b[39;00m df\n",
      "File \u001b[0;32m/srv/conda/envs/notebook/lib/python3.8/site-packages/pandas/core/generic.py:6290\u001b[0m, in \u001b[0;36mNDFrame.astype\u001b[0;34m(self, dtype, copy, errors)\u001b[0m\n\u001b[1;32m   6288\u001b[0m \u001b[38;5;28;01mfor\u001b[39;00m col_name \u001b[38;5;129;01min\u001b[39;00m dtype_ser\u001b[38;5;241m.\u001b[39mindex:\n\u001b[1;32m   6289\u001b[0m     \u001b[38;5;28;01mif\u001b[39;00m col_name \u001b[38;5;129;01mnot\u001b[39;00m \u001b[38;5;129;01min\u001b[39;00m \u001b[38;5;28mself\u001b[39m:\n\u001b[0;32m-> 6290\u001b[0m         \u001b[38;5;28;01mraise\u001b[39;00m \u001b[38;5;167;01mKeyError\u001b[39;00m(\n\u001b[1;32m   6291\u001b[0m             \u001b[38;5;124m\"\u001b[39m\u001b[38;5;124mOnly a column name can be used for the \u001b[39m\u001b[38;5;124m\"\u001b[39m\n\u001b[1;32m   6292\u001b[0m             \u001b[38;5;124m\"\u001b[39m\u001b[38;5;124mkey in a dtype mappings argument. \u001b[39m\u001b[38;5;124m\"\u001b[39m\n\u001b[1;32m   6293\u001b[0m             \u001b[38;5;124mf\u001b[39m\u001b[38;5;124m\"\u001b[39m\u001b[38;5;124m'\u001b[39m\u001b[38;5;132;01m{\u001b[39;00mcol_name\u001b[38;5;132;01m}\u001b[39;00m\u001b[38;5;124m'\u001b[39m\u001b[38;5;124m not found in columns.\u001b[39m\u001b[38;5;124m\"\u001b[39m\n\u001b[1;32m   6294\u001b[0m         )\n\u001b[1;32m   6296\u001b[0m dtype_ser \u001b[38;5;241m=\u001b[39m dtype_ser\u001b[38;5;241m.\u001b[39mreindex(\u001b[38;5;28mself\u001b[39m\u001b[38;5;241m.\u001b[39mcolumns, fill_value\u001b[38;5;241m=\u001b[39m\u001b[38;5;28;01mNone\u001b[39;00m, copy\u001b[38;5;241m=\u001b[39m\u001b[38;5;28;01mFalse\u001b[39;00m)\n\u001b[1;32m   6298\u001b[0m results \u001b[38;5;241m=\u001b[39m []\n",
      "\u001b[0;31mKeyError\u001b[0m: \"Only a column name can be used for the key in a dtype mappings argument. 'UTS/YS Ratio.a' not found in columns.\""
     ]
    }
   ],
   "source": [
    "df = birdshot.query(\"BBB\")\n",
    "df"
   ]
  },
  {
   "cell_type": "code",
   "execution_count": null,
   "id": "fb3622c3-252d-49be-8587-14485272e75f",
   "metadata": {},
   "outputs": [],
   "source": []
  },
  {
   "cell_type": "code",
   "execution_count": null,
   "id": "5c206261-5fca-4733-aaba-833610836fed",
   "metadata": {},
   "outputs": [],
   "source": []
  }
 ],
 "metadata": {
  "kernelspec": {
   "display_name": "Python 3 (ipykernel)",
   "language": "python",
   "name": "python3"
  },
  "language_info": {
   "codemirror_mode": {
    "name": "ipython",
    "version": 3
   },
   "file_extension": ".py",
   "mimetype": "text/x-python",
   "name": "python",
   "nbconvert_exporter": "python",
   "pygments_lexer": "ipython3",
   "version": "3.8.13"
  }
 },
 "nbformat": 4,
 "nbformat_minor": 5
}
