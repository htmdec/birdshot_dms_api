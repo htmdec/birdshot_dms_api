{
 "cells": [
  {
   "cell_type": "markdown",
   "id": "11898615-38ab-40b9-b321-c39f20732d85",
   "metadata": {},
   "source": [
    "# Example Campaign Analysis\n",
    "\n",
    "This example is intended to demonstrate implementation of the Contextualize Trend Analysis dashboard using the HTMDEC DMS API. This example uses [Plotly Dash](https://dash.plotly.com/) to create a dynamic visualization of the Campaign dataframe. Note that data is only complete for `AAA` and `AAB`."
   ]
  },
  {
   "cell_type": "code",
   "execution_count": 2,
   "id": "45e44dae-562c-4289-828b-5711a34a64bf",
   "metadata": {},
   "outputs": [
    {
     "name": "stderr",
     "output_type": "stream",
     "text": [
      "2024-09-26 02:50:58,836 - root - DEBUG - ['Elastic Modulus.a', 'Elastic Modulus.b', 'Elongation.a', 'Elongation.b', 'Maximum ∂2σ/∂ε2.a', 'Maximum ∂2σ/∂ε2.b', 'Measured Composition (%).Al', 'Measured Composition (%).Co', 'Measured Composition (%).Cr', 'Measured Composition (%).Cu', 'Measured Composition (%).Fe', 'Measured Composition (%).Mn', 'Measured Composition (%).Ni', 'Measured Composition (%).V', 'Target Composition (%).Al', 'Target Composition (%).Co', 'Target Composition (%).Cr', 'Target Composition (%).Cu', 'Target Composition (%).Fe', 'Target Composition (%).Mn', 'Target Composition (%).Ni', 'Target Composition (%).V', 'UTS/YS Ratio.a', 'UTS/YS Ratio.b', 'Ultimate Tensile Strength.a', 'Ultimate Tensile Strength.b', 'XRD.Lattice Parameters', 'XRD.Phase', 'Yield Strength.a', 'Yield Strength.b']\n",
      "2024-09-26 02:50:58,863 - urllib3.connectionpool - DEBUG - Starting new HTTP connection (1): 0.0.0.0:8050\n",
      "2024-09-26 02:50:58,865 - root - DEBUG - ['Elastic Modulus.a', 'Elastic Modulus.b', 'Elongation.a', 'Elongation.b', 'Maximum ∂2σ/∂ε2.a', 'Maximum ∂2σ/∂ε2.b', 'Measured Composition (%).Al', 'Measured Composition (%).Co', 'Measured Composition (%).Cr', 'Measured Composition (%).Cu', 'Measured Composition (%).Fe', 'Measured Composition (%).Mn', 'Measured Composition (%).Ni', 'Measured Composition (%).V', 'Target Composition (%).Al', 'Target Composition (%).Co', 'Target Composition (%).Cr', 'Target Composition (%).Cu', 'Target Composition (%).Fe', 'Target Composition (%).Mn', 'Target Composition (%).Ni', 'Target Composition (%).V', 'UTS/YS Ratio.a', 'UTS/YS Ratio.b', 'Ultimate Tensile Strength.a', 'Ultimate Tensile Strength.b', 'XRD.Lattice Parameters', 'XRD.Phase', 'Yield Strength.a', 'Yield Strength.b']\n",
      "2024-09-26 02:50:58,868 - urllib3.connectionpool - DEBUG - http://0.0.0.0:8050 \"GET /_alive_58d0e53e-c518-41f9-8fa2-a1243c3c3037 HTTP/1.1\" 200 5\n"
     ]
    },
    {
     "data": {
      "text/plain": [
       "<dash.dash.Dash at 0x7ff7e2d7efa0>"
      ]
     },
     "execution_count": 2,
     "metadata": {},
     "output_type": "execute_result"
    }
   ],
   "source": [
    "import birdshot\n",
    "birdshot.show_plot()"
   ]
  },
  {
   "cell_type": "code",
   "execution_count": null,
   "id": "fc19353a-b00d-4bdd-b30b-aa5f784694a3",
   "metadata": {},
   "outputs": [],
   "source": []
  },
  {
   "cell_type": "code",
   "execution_count": null,
   "id": "72d280a2-d106-49b3-a321-4d6511bfadf7",
   "metadata": {},
   "outputs": [],
   "source": []
  }
 ],
 "metadata": {
  "kernelspec": {
   "display_name": "Python 3 (ipykernel)",
   "language": "python",
   "name": "python3"
  },
  "language_info": {
   "codemirror_mode": {
    "name": "ipython",
    "version": 3
   },
   "file_extension": ".py",
   "mimetype": "text/x-python",
   "name": "python",
   "nbconvert_exporter": "python",
   "pygments_lexer": "ipython3",
   "version": "3.8.13"
  }
 },
 "nbformat": 4,
 "nbformat_minor": 5
}
