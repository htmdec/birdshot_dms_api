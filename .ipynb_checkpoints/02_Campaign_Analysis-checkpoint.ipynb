{
 "cells": [
  {
   "cell_type": "markdown",
   "id": "11898615-38ab-40b9-b321-c39f20732d85",
   "metadata": {},
   "source": [
    "# Example Campaign Analysis\n",
    "\n",
    "This example is intended to demonstrate implementation of the Contextualize Trend Analysis dashboard using the HTMDEC DMS API. This example uses [Plotly Dash](https://dash.plotly.com/) to create a dynamic visualization of the Campaign dataframe. Note that data is only complete for `AAA` and `AAB`."
   ]
  },
  {
   "cell_type": "code",
   "execution_count": 1,
   "id": "45e44dae-562c-4289-828b-5711a34a64bf",
   "metadata": {},
   "outputs": [
    {
     "data": {
      "text/html": [
       "\n",
       "        <iframe\n",
       "            width=\"100%\"\n",
       "            height=\"650\"\n",
       "            src=\"http://localhost:8050/\"\n",
       "            frameborder=\"0\"\n",
       "            allowfullscreen\n",
       "            \n",
       "        ></iframe>\n",
       "        "
      ],
      "text/plain": [
       "<IPython.lib.display.IFrame at 0x137496980>"
      ]
     },
     "metadata": {},
     "output_type": "display_data"
    },
    {
     "data": {
      "text/plain": [
       "<dash.dash.Dash at 0x107c6feb0>"
      ]
     },
     "execution_count": 1,
     "metadata": {},
     "output_type": "execute_result"
    },
    {
     "name": "stderr",
     "output_type": "stream",
     "text": [
      "[2025-04-02 23:48:41,884] ERROR in app: Exception on /_dash-update-component [POST]\n",
      "Traceback (most recent call last):\n",
      "  File \"/Users/elbert/miniconda3/envs/birdshot_api/lib/python3.10/site-packages/flask/app.py\", line 1511, in wsgi_app\n",
      "    response = self.full_dispatch_request()\n",
      "  File \"/Users/elbert/miniconda3/envs/birdshot_api/lib/python3.10/site-packages/flask/app.py\", line 919, in full_dispatch_request\n",
      "    rv = self.handle_user_exception(e)\n",
      "  File \"/Users/elbert/miniconda3/envs/birdshot_api/lib/python3.10/site-packages/flask/app.py\", line 917, in full_dispatch_request\n",
      "    rv = self.dispatch_request()\n",
      "  File \"/Users/elbert/miniconda3/envs/birdshot_api/lib/python3.10/site-packages/flask/app.py\", line 902, in dispatch_request\n",
      "    return self.ensure_sync(self.view_functions[rule.endpoint])(**view_args)  # type: ignore[no-any-return]\n",
      "  File \"/Users/elbert/miniconda3/envs/birdshot_api/lib/python3.10/site-packages/dash/dash.py\", line 1405, in dispatch\n",
      "    ctx.run(\n",
      "  File \"/Users/elbert/miniconda3/envs/birdshot_api/lib/python3.10/site-packages/dash/_callback.py\", line 529, in add_context\n",
      "    raise err\n",
      "  File \"/Users/elbert/miniconda3/envs/birdshot_api/lib/python3.10/site-packages/dash/_callback.py\", line 518, in add_context\n",
      "    output_value = _invoke_callback(func, *func_args, **func_kwargs)\n",
      "  File \"/Users/elbert/miniconda3/envs/birdshot_api/lib/python3.10/site-packages/dash/_callback.py\", line 47, in _invoke_callback\n",
      "    return func(*args, **kwargs)  # %% callback invoked %%\n",
      "  File \"/Users/elbert/Documents/GitHub/htmdec/birdshot_dms_api/birdshot.py\", line 156, in update_dropdown_columns\n",
      "    df = query(campaign)\n",
      "TypeError: query() missing 1 required positional argument: 'client'\n",
      "[2025-04-02 23:48:41,895] ERROR in app: Exception on /_dash-update-component [POST]\n",
      "Traceback (most recent call last):\n",
      "  File \"/Users/elbert/miniconda3/envs/birdshot_api/lib/python3.10/site-packages/flask/app.py\", line 1511, in wsgi_app\n",
      "    response = self.full_dispatch_request()\n",
      "  File \"/Users/elbert/miniconda3/envs/birdshot_api/lib/python3.10/site-packages/flask/app.py\", line 919, in full_dispatch_request\n",
      "    rv = self.handle_user_exception(e)\n",
      "  File \"/Users/elbert/miniconda3/envs/birdshot_api/lib/python3.10/site-packages/flask/app.py\", line 917, in full_dispatch_request\n",
      "    rv = self.dispatch_request()\n",
      "  File \"/Users/elbert/miniconda3/envs/birdshot_api/lib/python3.10/site-packages/flask/app.py\", line 902, in dispatch_request\n",
      "    return self.ensure_sync(self.view_functions[rule.endpoint])(**view_args)  # type: ignore[no-any-return]\n",
      "  File \"/Users/elbert/miniconda3/envs/birdshot_api/lib/python3.10/site-packages/dash/dash.py\", line 1405, in dispatch\n",
      "    ctx.run(\n",
      "  File \"/Users/elbert/miniconda3/envs/birdshot_api/lib/python3.10/site-packages/dash/_callback.py\", line 529, in add_context\n",
      "    raise err\n",
      "  File \"/Users/elbert/miniconda3/envs/birdshot_api/lib/python3.10/site-packages/dash/_callback.py\", line 518, in add_context\n",
      "    output_value = _invoke_callback(func, *func_args, **func_kwargs)\n",
      "  File \"/Users/elbert/miniconda3/envs/birdshot_api/lib/python3.10/site-packages/dash/_callback.py\", line 47, in _invoke_callback\n",
      "    return func(*args, **kwargs)  # %% callback invoked %%\n",
      "  File \"/Users/elbert/Documents/GitHub/htmdec/birdshot_dms_api/birdshot.py\", line 171, in update_graph\n",
      "    df = query(campaign)\n",
      "TypeError: query() missing 1 required positional argument: 'client'\n"
     ]
    }
   ],
   "source": [
    "import birdshot\n",
    "birdshot.show_plot()"
   ]
  },
  {
   "cell_type": "code",
   "execution_count": 6,
   "id": "8eba5b2a-85ed-4da0-8576-e8494baf24a4",
   "metadata": {},
   "outputs": [
    {
     "data": {
      "text/html": [
       "\n",
       "        <iframe\n",
       "            width=\"100%\"\n",
       "            height=\"650\"\n",
       "            src=\"http://localhost:8050/\"\n",
       "            frameborder=\"0\"\n",
       "            allowfullscreen\n",
       "            \n",
       "        ></iframe>\n",
       "        "
      ],
      "text/plain": [
       "<IPython.lib.display.IFrame at 0x137cd33d0>"
      ]
     },
     "metadata": {},
     "output_type": "display_data"
    },
    {
     "data": {
      "text/plain": [
       "<dash.dash.Dash at 0x137f84ee0>"
      ]
     },
     "execution_count": 6,
     "metadata": {},
     "output_type": "execute_result"
    },
    {
     "name": "stderr",
     "output_type": "stream",
     "text": [
      "[2025-04-03 09:59:23,183] ERROR in app: Exception on /_dash-update-component [POST]\n",
      "Traceback (most recent call last):\n",
      "  File \"/Users/elbert/miniconda3/envs/birdshot_api/lib/python3.10/site-packages/flask/app.py\", line 1511, in wsgi_app\n",
      "    response = self.full_dispatch_request()\n",
      "  File \"/Users/elbert/miniconda3/envs/birdshot_api/lib/python3.10/site-packages/flask/app.py\", line 919, in full_dispatch_request\n",
      "    rv = self.handle_user_exception(e)\n",
      "  File \"/Users/elbert/miniconda3/envs/birdshot_api/lib/python3.10/site-packages/flask/app.py\", line 917, in full_dispatch_request\n",
      "    rv = self.dispatch_request()\n",
      "  File \"/Users/elbert/miniconda3/envs/birdshot_api/lib/python3.10/site-packages/flask/app.py\", line 902, in dispatch_request\n",
      "    return self.ensure_sync(self.view_functions[rule.endpoint])(**view_args)  # type: ignore[no-any-return]\n",
      "  File \"/Users/elbert/miniconda3/envs/birdshot_api/lib/python3.10/site-packages/dash/dash.py\", line 1405, in dispatch\n",
      "    ctx.run(\n",
      "  File \"/Users/elbert/miniconda3/envs/birdshot_api/lib/python3.10/site-packages/dash/_callback.py\", line 529, in add_context\n",
      "    raise err\n",
      "  File \"/Users/elbert/miniconda3/envs/birdshot_api/lib/python3.10/site-packages/dash/_callback.py\", line 518, in add_context\n",
      "    output_value = _invoke_callback(func, *func_args, **func_kwargs)\n",
      "  File \"/Users/elbert/miniconda3/envs/birdshot_api/lib/python3.10/site-packages/dash/_callback.py\", line 47, in _invoke_callback\n",
      "    return func(*args, **kwargs)  # %% callback invoked %%\n",
      "  File \"/Users/elbert/Documents/GitHub/htmdec/birdshot_dms_api/birdshot2.py\", line 164, in update_dropdown_columns\n",
      "    defaults = [cols[i] if len(cols) > i else cols[0] for i in range(4)]\n",
      "  File \"/Users/elbert/Documents/GitHub/htmdec/birdshot_dms_api/birdshot2.py\", line 164, in <listcomp>\n",
      "    defaults = [cols[i] if len(cols) > i else cols[0] for i in range(4)]\n",
      "IndexError: list index out of range\n",
      "[2025-04-03 09:59:23,231] ERROR in app: Exception on /_dash-update-component [POST]\n",
      "Traceback (most recent call last):\n",
      "  File \"/Users/elbert/miniconda3/envs/birdshot_api/lib/python3.10/site-packages/flask/app.py\", line 1511, in wsgi_app\n",
      "    response = self.full_dispatch_request()\n",
      "  File \"/Users/elbert/miniconda3/envs/birdshot_api/lib/python3.10/site-packages/flask/app.py\", line 919, in full_dispatch_request\n",
      "    rv = self.handle_user_exception(e)\n",
      "  File \"/Users/elbert/miniconda3/envs/birdshot_api/lib/python3.10/site-packages/flask/app.py\", line 917, in full_dispatch_request\n",
      "    rv = self.dispatch_request()\n",
      "  File \"/Users/elbert/miniconda3/envs/birdshot_api/lib/python3.10/site-packages/flask/app.py\", line 902, in dispatch_request\n",
      "    return self.ensure_sync(self.view_functions[rule.endpoint])(**view_args)  # type: ignore[no-any-return]\n",
      "  File \"/Users/elbert/miniconda3/envs/birdshot_api/lib/python3.10/site-packages/dash/dash.py\", line 1405, in dispatch\n",
      "    ctx.run(\n",
      "  File \"/Users/elbert/miniconda3/envs/birdshot_api/lib/python3.10/site-packages/dash/_callback.py\", line 529, in add_context\n",
      "    raise err\n",
      "  File \"/Users/elbert/miniconda3/envs/birdshot_api/lib/python3.10/site-packages/dash/_callback.py\", line 518, in add_context\n",
      "    output_value = _invoke_callback(func, *func_args, **func_kwargs)\n",
      "  File \"/Users/elbert/miniconda3/envs/birdshot_api/lib/python3.10/site-packages/dash/_callback.py\", line 47, in _invoke_callback\n",
      "    return func(*args, **kwargs)  # %% callback invoked %%\n",
      "  File \"/Users/elbert/Documents/GitHub/htmdec/birdshot_dms_api/birdshot2.py\", line 177, in update_graph\n",
      "    fig = px.scatter(df, x=x_col, y=y_col, color=color_col, size=size_col)\n",
      "  File \"/Users/elbert/miniconda3/envs/birdshot_api/lib/python3.10/site-packages/plotly/express/_chart_types.py\", line 69, in scatter\n",
      "    return make_figure(args=locals(), constructor=go.Scatter)\n",
      "  File \"/Users/elbert/miniconda3/envs/birdshot_api/lib/python3.10/site-packages/plotly/express/_core.py\", line 2479, in make_figure\n",
      "    args = build_dataframe(args, constructor)\n",
      "  File \"/Users/elbert/miniconda3/envs/birdshot_api/lib/python3.10/site-packages/plotly/express/_core.py\", line 1727, in build_dataframe\n",
      "    df_output, wide_id_vars = process_args_into_dataframe(\n",
      "  File \"/Users/elbert/miniconda3/envs/birdshot_api/lib/python3.10/site-packages/plotly/express/_core.py\", line 1328, in process_args_into_dataframe\n",
      "    raise ValueError(err_msg)\n",
      "ValueError: Value of 'x' is not the name of a column in 'data_frame'. Expected one of [] but received: Elastic Modulus.a\n"
     ]
    }
   ],
   "source": [
    "from girder_client import GirderClient\n",
    "import os\n",
    "import birdshot2\n",
    "\n",
    "client = GirderClient(apiUrl=os.environ[\"GIRDER_API_URL\"])\n",
    "client.authenticate(apiKey=os.environ[\"GIRDER_API_KEY\"])\n",
    "\n",
    "birdshot2.show_plot(client)"
   ]
  },
  {
   "cell_type": "markdown",
   "id": "9aeda008-e7bd-4cb6-b79d-b70812077a79",
   "metadata": {},
   "source": [
    "### errors: Two separate issues where no data is available or the column names are empty."
   ]
  },
  {
   "cell_type": "code",
   "execution_count": null,
   "id": "49874b02-2ccf-436d-b5e0-145ba64ae9a9",
   "metadata": {},
   "outputs": [],
   "source": []
  }
 ],
 "metadata": {
  "kernelspec": {
   "display_name": "Python (birdshot_api)",
   "language": "python",
   "name": "birdshot_api"
  },
  "language_info": {
   "codemirror_mode": {
    "name": "ipython",
    "version": 3
   },
   "file_extension": ".py",
   "mimetype": "text/x-python",
   "name": "python",
   "nbconvert_exporter": "python",
   "pygments_lexer": "ipython3",
   "version": "3.10.16"
  }
 },
 "nbformat": 4,
 "nbformat_minor": 5
}
