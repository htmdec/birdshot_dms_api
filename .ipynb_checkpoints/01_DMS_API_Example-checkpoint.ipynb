{
 "cells": [
  {
   "cell_type": "markdown",
   "id": "3372a249-9215-4441-b2d4-d1561a23e22d",
   "metadata": {},
   "source": [
    "# HTMDEC DMS API Example\n",
    "\n",
    "This example demonstrates how to use the new HTMDEC DMS `/form` and `/entry` REST API endpoints to search for BIRDSHOT data which can be converted to a Pandas dataframe for analysis and visualization. \n",
    "\n",
    "The `birdshot.py` module implements some example utility functions for querying, analyzing, and visualizing BIRDSHOT data."
   ]
  },
  {
   "cell_type": "markdown",
   "id": "74fc79a9-d46b-4cd4-888c-61d925acc753",
   "metadata": {},
   "source": [
    "### Note:\n",
    "During the ingest process, form data collected by Contextualize in the Campaign 1 structure was converted to the [Campaign 2 structure](https://docs.google.com/document/d/1FpiXwLQi8QAOuLB0Xr80V14qGfqtyCpT/edit). This means that:\n",
    "* Sample IDs were converted to the Campaign 2 structure \n",
    "* Campaign 1 \"child\" sample numbers (T*nn*) have been replaced with ordinal letters (a, b, c, ...)\n"
   ]
  },
  {
   "cell_type": "markdown",
   "id": "0a32df52-f570-4995-a7f0-4300e9627e07",
   "metadata": {},
   "source": [
    "### Using the REST API\n",
    "\n",
    "The [Girder Client](https://girder.readthedocs.io/en/latest/python-client.html) can be used to query the REST endpoints directly. When running via the DMS, the API URL and user token required for access are available in the current environment.\n"
   ]
  },
  {
   "cell_type": "code",
   "execution_count": 1,
   "id": "489b86b5-91ba-4b13-a039-9b7ebc8a20cf",
   "metadata": {},
   "outputs": [],
   "source": [
    "from girder_client import GirderClient\n",
    "import os\n",
    "\n",
    "client = GirderClient(apiUrl=os.environ['GIRDER_API_URL'])\n",
    "client.token = os.environ['GIRDER_TOKEN']"
   ]
  },
  {
   "cell_type": "markdown",
   "id": "c75ac11d-7e0c-45dc-a5e0-b9245cdf16b8",
   "metadata": {},
   "source": [
    "To query VAM data from iteration 1 (AAA) across all forms, use the `/entry/search` endpoint to query the Sample ID. Data is returned in JSON:"
   ]
  },
  {
   "cell_type": "markdown",
   "id": "2a1d31d9-9cd8-4d4d-9e91-2608e746aaba",
   "metadata": {},
   "source": [
    "Use the `/form` and `entry` endpoints to query data from a specific form:"
   ]
  },
  {
   "cell_type": "code",
   "execution_count": 2,
   "id": "cebcd93f-e8ed-4398-a72c-f6bdf969311f",
   "metadata": {},
   "outputs": [
    {
     "ename": "IndexError",
     "evalue": "list index out of range",
     "output_type": "error",
     "traceback": [
      "\u001b[0;31m---------------------------------------------------------------------------\u001b[0m",
      "\u001b[0;31mIndexError\u001b[0m                                Traceback (most recent call last)",
      "Cell \u001b[0;32mIn [2], line 3\u001b[0m\n\u001b[1;32m      1\u001b[0m form_name \u001b[38;5;241m=\u001b[39m \u001b[38;5;124m'\u001b[39m\u001b[38;5;124mtensile-details.json\u001b[39m\u001b[38;5;124m'\u001b[39m\n\u001b[1;32m      2\u001b[0m form \u001b[38;5;241m=\u001b[39m client\u001b[38;5;241m.\u001b[39mget(\u001b[38;5;124m'\u001b[39m\u001b[38;5;124mform\u001b[39m\u001b[38;5;124m'\u001b[39m, parameters\u001b[38;5;241m=\u001b[39m{\u001b[38;5;124m'\u001b[39m\u001b[38;5;124mentryFileName\u001b[39m\u001b[38;5;124m'\u001b[39m: form_name, \u001b[38;5;124m'\u001b[39m\u001b[38;5;124mlimit\u001b[39m\u001b[38;5;124m'\u001b[39m: \u001b[38;5;241m1000\u001b[39m})\n\u001b[0;32m----> 3\u001b[0m \u001b[43mform\u001b[49m\u001b[43m[\u001b[49m\u001b[38;5;241;43m0\u001b[39;49m\u001b[43m]\u001b[49m[\u001b[38;5;124m'\u001b[39m\u001b[38;5;124m_id\u001b[39m\u001b[38;5;124m'\u001b[39m]\n\u001b[1;32m      5\u001b[0m tensile_data \u001b[38;5;241m=\u001b[39m client\u001b[38;5;241m.\u001b[39mget(\u001b[38;5;124m'\u001b[39m\u001b[38;5;124mentry\u001b[39m\u001b[38;5;124m'\u001b[39m, parameters\u001b[38;5;241m=\u001b[39m{\u001b[38;5;124m'\u001b[39m\u001b[38;5;124mformId\u001b[39m\u001b[38;5;124m'\u001b[39m: form[\u001b[38;5;241m0\u001b[39m][\u001b[38;5;124m'\u001b[39m\u001b[38;5;124m_id\u001b[39m\u001b[38;5;124m'\u001b[39m], \u001b[38;5;124m'\u001b[39m\u001b[38;5;124mlimit\u001b[39m\u001b[38;5;124m'\u001b[39m: \u001b[38;5;241m1000\u001b[39m})\n\u001b[1;32m      6\u001b[0m tensile_data[\u001b[38;5;241m0\u001b[39m][\u001b[38;5;124m\"\u001b[39m\u001b[38;5;124mdata\u001b[39m\u001b[38;5;124m\"\u001b[39m]\n",
      "\u001b[0;31mIndexError\u001b[0m: list index out of range"
     ]
    }
   ],
   "source": [
    "# form_name = 'tensile-details.json'\n",
    "# form = client.get('form', parameters={'entryFileName': form_name, 'limit': 1000})\n",
    "# form[0]['_id']\n",
    "\n",
    "# tensile_data = client.get('entry', parameters={'formId': form[0]['_id'], 'limit': 1000})\n",
    "# tensile_data[0][\"data\"]"
   ]
  },
  {
   "cell_type": "markdown",
   "id": "2d796ad8-60d4-4276-934a-775bc72fd589",
   "metadata": {},
   "source": [
    "### Using the `birdshot` Module\n",
    "\n",
    "The `birdshot.py` module implements a few helper functions to query the REST API and convert data into a single Pandas dataframe for analysis:"
   ]
  },
  {
   "cell_type": "code",
   "execution_count": null,
   "id": "f33ebf7d-c4f5-48ea-af03-9b39309b8c15",
   "metadata": {},
   "outputs": [],
   "source": [
    "import birdshot"
   ]
  },
  {
   "cell_type": "markdown",
   "id": "1650b955-713a-4f58-8e8e-197382639d8f",
   "metadata": {},
   "source": [
    "The `query()` method takes the iteration identifier as an argument and returns a dataframe of results from multiple characterization methods. The example dataframe is intended to reproduce the information available in the Summary Synthesis Results (for example see [HTMDEC AAB Summary Synthesis Results](https://docs.google.com/spreadsheets/d/15cdImpOComsvUpAIq20_nyff65WVzN_q/))."
   ]
  },
  {
   "cell_type": "code",
   "execution_count": null,
   "id": "e1b3506d-f5d3-485f-b9ef-3aab5898ceec",
   "metadata": {},
   "outputs": [],
   "source": [
    "df = birdshot.query(\"BBB\", client=client)\n",
    "df"
   ]
  },
  {
   "cell_type": "code",
   "execution_count": null,
   "id": "5c206261-5fca-4733-aaba-833610836fed",
   "metadata": {},
   "outputs": [],
   "source": []
  }
 ],
 "metadata": {
  "kernelspec": {
   "display_name": "Python 3 (ipykernel)",
   "language": "python",
   "name": "python3"
  },
  "language_info": {
   "codemirror_mode": {
    "name": "ipython",
    "version": 3
   },
   "file_extension": ".py",
   "mimetype": "text/x-python",
   "name": "python",
   "nbconvert_exporter": "python",
   "pygments_lexer": "ipython3",
   "version": "3.8.13"
  }
 },
 "nbformat": 4,
 "nbformat_minor": 5
}
