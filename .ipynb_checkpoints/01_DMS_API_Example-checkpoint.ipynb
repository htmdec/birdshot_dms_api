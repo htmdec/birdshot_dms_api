{
 "cells": [
  {
   "cell_type": "markdown",
   "id": "3372a249-9215-4441-b2d4-d1561a23e22d",
   "metadata": {},
   "source": [
    "# HTMDEC DMS API Example\n",
    "\n",
    "This example demonstrates how to use the new HTMDEC DMS `/form` and `/entry` REST API endpoints to search for BIRDSHOT data which can be converted to a Pandas dataframe for analysis and visualization. \n",
    "\n",
    "The `birdshot.py` module implements some example utility functions for querying, analyzing, and visualizing BIRDSHOT data."
   ]
  },
  {
   "cell_type": "markdown",
   "id": "74fc79a9-d46b-4cd4-888c-61d925acc753",
   "metadata": {},
   "source": [
    "### Note:\n",
    "During the ingest process, form data collected by Contextualize in the Campaign 1 structure was converted to the [Campaign 2 structure](https://docs.google.com/document/d/1FpiXwLQi8QAOuLB0Xr80V14qGfqtyCpT/edit). This means that:\n",
    "* Sample IDs were converted to the Campaign 2 structure \n",
    "* Campaign 1 \"child\" sample numbers (T*nn*) have been replaced with ordinal letters (a, b, c, ...)\n"
   ]
  },
  {
   "cell_type": "markdown",
   "id": "0a32df52-f570-4995-a7f0-4300e9627e07",
   "metadata": {},
   "source": [
    "### Using the REST API\n",
    "\n",
    "The [Girder Client](https://girder.readthedocs.io/en/latest/python-client.html) can be used to query the REST endpoints directly. When running via the DMS, the API URL and user token required for access are available in the current environment.\n"
   ]
  },
  {
   "cell_type": "code",
   "execution_count": 1,
   "id": "489b86b5-91ba-4b13-a039-9b7ebc8a20cf",
   "metadata": {},
   "outputs": [
    {
     "data": {
      "text/plain": [
       "{'_id': '6424afee4236ff9b0883f24b'}"
      ]
     },
     "execution_count": 1,
     "metadata": {},
     "output_type": "execute_result"
    }
   ],
   "source": [
    "from girder_client import GirderClient\n",
    "import os\n",
    "\n",
    "client = GirderClient(apiUrl=os.environ['GIRDER_API_URL'])\n",
    "client.authenticate(apiKey=os.environ[\"GIRDER_API_KEY\"])"
   ]
  },
  {
   "cell_type": "markdown",
   "id": "c75ac11d-7e0c-45dc-a5e0-b9245cdf16b8",
   "metadata": {},
   "source": [
    "To query VAM data from iteration 1 (AAA) across all forms, use the `/entry/search` endpoint to query the Sample ID. Data is returned in JSON:"
   ]
  },
  {
   "cell_type": "markdown",
   "id": "2a1d31d9-9cd8-4d4d-9e91-2608e746aaba",
   "metadata": {},
   "source": [
    "Use the `/form` and `entry` endpoints to query data from a specific form:"
   ]
  },
  {
   "cell_type": "code",
   "execution_count": 2,
   "id": "0f9a0cd5-47aa-49a1-9f7a-eaec9d3d9f8d",
   "metadata": {},
   "outputs": [
    {
     "data": {
      "text/plain": [
       "{'Completed By': 'Daniel & Wenle',\n",
       " 'End Date': '2022-12-13',\n",
       " 'File Upload': {'file': '',\n",
       "  'sampleId': 'AAB06_VAM-A_Tensile_a',\n",
       "  'targetPath': 'AAB/VAM-A/AAB06/Tensile/a'},\n",
       " 'Modulus Check': {'Force Rate': 10, 'Max Force': 686, 'Max Stress': 225},\n",
       " 'Notes': '',\n",
       " 'Results': {'Elastic Modulus': 252,\n",
       "  'Elongation': 28,\n",
       "  'Maximum ∂2σ/∂ε2': -1529,\n",
       "  'UTS/YS Ratio': '1.6794871794871795',\n",
       "  'Ultimate Tensile Strength': 917,\n",
       "  'Yield Strength': 546},\n",
       " 'Sample Dimensions': {'Area': '3.0488',\n",
       "  'Gauge Length': 8,\n",
       "  'Thickness': 1.03,\n",
       "  'Width': 2.96},\n",
       " 'Start Date': '2022-11-15',\n",
       " 'Time Spent': '0:04',\n",
       " 'sampleId': 'AAB06_VAM-A_Tensile_a',\n",
       " 'suffix': 'Tensile',\n",
       " 'targetPath': 'AAB/VAM-A/AAB06/Tensile/a'}"
      ]
     },
     "execution_count": 2,
     "metadata": {},
     "output_type": "execute_result"
    }
   ],
   "source": [
    "form_name = 'tensile-details.json'\n",
    "form = client.get('form', parameters={'entryFileName': form_name, 'limit': 1000})\n",
    "form[0]['_id']\n",
    "\n",
    "tensile_data = client.get('entry', parameters={'formId': form[0]['_id'], 'limit': 1000})\n",
    "tensile_data[0][\"data\"]"
   ]
  },
  {
   "cell_type": "code",
   "execution_count": 3,
   "id": "166bc400-cc19-414f-a775-72e16b824bfd",
   "metadata": {},
   "outputs": [
    {
     "data": {
      "text/plain": [
       "{'Arc Melting': {'3 Part Sections': {'1': 150, '2': 150, '3': 150},\n",
       "  'Full Ingot': {'1': 200,\n",
       "   '2': 200,\n",
       "   '3': 250,\n",
       "   '4': 250,\n",
       "   '5': 250,\n",
       "   '6': 250,\n",
       "   '7': 250},\n",
       "  'Ingot Mass Information': {'Final Ingot Mass': 49.7611,\n",
       "   'Mass Loss': 0.4961707036219271},\n",
       "  'Process Overview': {'Completed By': 'TAMU VAM Team',\n",
       "   'Finish Date': '2025-02-05',\n",
       "   'Start Date': '2025-01-30',\n",
       "   'Time Spent': '10:00'},\n",
       "  'Surface': {'1': 130},\n",
       "  'VAM Details': {'Argon Pressure': 500,\n",
       "   'Diffusion': 'Before Each Melt',\n",
       "   'Ingot Location': 0,\n",
       "   'Initial Purging Times': 3,\n",
       "   'Vacuum Before Melt': 3e-05}},\n",
       " 'Material Preparation': {'Process Overview': {'Completed By': 'TAMU VAM Team',\n",
       "   'Finish Date': '2025-01-30',\n",
       "   'Start Date': '2025-01-28',\n",
       "   'Time Spent': '10:00'},\n",
       "  'Target Mass': {'Co': 4.1669076549424995,\n",
       "   'Cr': 3.6764157913901787,\n",
       "   'Fe': 11.845663801911174,\n",
       "   'Mn': 3.884424615449883,\n",
       "   'Ni': 22.824738477637585,\n",
       "   'Total': 50,\n",
       "   'V': 3.601849658668684},\n",
       "  'Weighed Mass': {'Co': 4.1673,\n",
       "   'Cr': 3.674,\n",
       "   'Fe': 11.8482,\n",
       "   'Mn': 3.8884,\n",
       "   'Ni': 22.8243,\n",
       "   'Total': 50.00800000000001,\n",
       "   'V': 3.6058},\n",
       "  'elements': {'Al': False,\n",
       "   'Co': True,\n",
       "   'Cr': True,\n",
       "   'Cu': False,\n",
       "   'Fe': True,\n",
       "   'Mn': True,\n",
       "   'Ni': True,\n",
       "   'V': True}},\n",
       " 'Notes': 0.0,\n",
       " 'sampleId': 'CBA01_VAM-A',\n",
       " 'suffix': 'Syn',\n",
       " 'targetPath': 'CBA/VAM-A/CBA01/Syn'}"
      ]
     },
     "execution_count": 3,
     "metadata": {},
     "output_type": "execute_result"
    }
   ],
   "source": [
    "iteration = 'CBA'\n",
    "raw_data = client.get(\n",
    "        'entry', parameters={'query': f'^{iteration}.._VAM-.', 'limit': 1000}\n",
    ")\n",
    "raw_data[0][\"data\"]"
   ]
  },
  {
   "cell_type": "markdown",
   "id": "2d796ad8-60d4-4276-934a-775bc72fd589",
   "metadata": {},
   "source": [
    "### Using the `birdshot` Module\n",
    "\n",
    "The `birdshot.py` module implements a few helper functions to query the REST API and convert data into a single Pandas dataframe for analysis:"
   ]
  },
  {
   "cell_type": "code",
   "execution_count": 4,
   "id": "f33ebf7d-c4f5-48ea-af03-9b39309b8c15",
   "metadata": {},
   "outputs": [],
   "source": [
    "import birdshot"
   ]
  },
  {
   "cell_type": "markdown",
   "id": "1650b955-713a-4f58-8e8e-197382639d8f",
   "metadata": {},
   "source": [
    "The `query()` method takes the iteration identifier as an argument and returns a dataframe of results from multiple characterization methods. The example dataframe is intended to reproduce the information available in the Summary Synthesis Results (for example see [HTMDEC AAB Summary Synthesis Results](https://docs.google.com/spreadsheets/d/15cdImpOComsvUpAIq20_nyff65WVzN_q/))."
   ]
  },
  {
   "cell_type": "code",
   "execution_count": 9,
   "id": "e1b3506d-f5d3-485f-b9ef-3aab5898ceec",
   "metadata": {},
   "outputs": [],
   "source": [
    "campaign = \"CBA\"\n",
    "df = birdshot.query(campaign, client=client, take_metric_average=False)\n",
    "df.to_csv(f\"data/{campaign}_data_summary.csv\", index=False)"
   ]
  },
  {
   "cell_type": "code",
   "execution_count": null,
   "id": "f3a18d6f-8535-40f2-9ed2-00bc84edb0d9",
   "metadata": {},
   "outputs": [],
   "source": []
  }
 ],
 "metadata": {
  "kernelspec": {
   "display_name": "Python 3 (ipykernel)",
   "language": "python",
   "name": "python3"
  },
  "language_info": {
   "codemirror_mode": {
    "name": "ipython",
    "version": 3
   },
   "file_extension": ".py",
   "mimetype": "text/x-python",
   "name": "python",
   "nbconvert_exporter": "python",
   "pygments_lexer": "ipython3",
   "version": "3.8.13"
  }
 },
 "nbformat": 4,
 "nbformat_minor": 5
}
