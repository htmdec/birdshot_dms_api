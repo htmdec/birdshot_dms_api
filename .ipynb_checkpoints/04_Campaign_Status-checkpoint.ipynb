{
 "cells": [
  {
   "cell_type": "code",
   "execution_count": 1,
   "metadata": {},
   "outputs": [],
   "source": [
    "from girder_client import GirderClient\n",
    "import pandas as pd\n",
    "import birdshot\n",
    "import re\n",
    "import os\n",
    "from birdshot import summarize_presence_by_sample"
   ]
  },
  {
   "cell_type": "code",
   "execution_count": 2,
   "metadata": {},
   "outputs": [],
   "source": [
    "# Authenticate with GirderClient\n",
    "client = GirderClient(apiUrl=\"https://data.htmdec.org/api/v1\")\n",
    "client.token = os.getenv(\"GIRDER_TOKEN\")"
   ]
  },
  {
   "cell_type": "code",
   "execution_count": 3,
   "metadata": {},
   "outputs": [],
   "source": [
    "campaign = 'CBA'\n",
    "df = birdshot.query(campaign=campaign, client=client)\n",
    "summary_df = summarize_presence_by_sample(df, campaign)\n",
    "summary_df.to_csv(f\"data/{campaign}_presence_summary.csv\", index=False)"
   ]
  },
  {
   "cell_type": "code",
   "execution_count": null,
   "metadata": {},
   "outputs": [],
   "source": []
  }
 ],
 "metadata": {
  "kernelspec": {
   "display_name": "Python 3 (ipykernel)",
   "language": "python",
   "name": "python3"
  },
  "language_info": {
   "codemirror_mode": {
    "name": "ipython",
    "version": 3
   },
   "file_extension": ".py",
   "mimetype": "text/x-python",
   "name": "python",
   "nbconvert_exporter": "python",
   "pygments_lexer": "ipython3",
   "version": "3.8.13"
  }
 },
 "nbformat": 4,
 "nbformat_minor": 4
}
