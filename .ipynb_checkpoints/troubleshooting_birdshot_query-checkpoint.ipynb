{
 "cells": [
  {
   "cell_type": "code",
   "execution_count": 1,
   "id": "db2cff9b-70d7-4053-bab6-a21c0464cb2a",
   "metadata": {},
   "outputs": [],
   "source": [
    "import os\n",
    "from girder_client import GirderClient\n",
    "import pandas as pd"
   ]
  },
  {
   "cell_type": "code",
   "execution_count": 2,
   "id": "3c2deb7e-b92f-405e-97c8-d36e991d6371",
   "metadata": {},
   "outputs": [],
   "source": [
    "# Initialize the Girder client with your environment variables\n",
    "client = GirderClient(apiUrl=os.environ['GIRDER_API_URL'])\n",
    "client.token = os.environ['GIRDER_TOKEN']"
   ]
  },
  {
   "cell_type": "code",
   "execution_count": 9,
   "id": "886ff379-9e39-473e-924f-7c7c599ae409",
   "metadata": {},
   "outputs": [],
   "source": [
    "# Function to list all available forms\n",
    "def list_forms():\n",
    "    forms = client.get('form')  # endpoint might differ based on your Girder deployment\n",
    "    form_names = [form['name'] for form in forms]\n",
    "    return form_names\n",
    "\n",
    "# Function to get all entries (with limit)\n",
    "def list_entries(limit=1000):\n",
    "    entries = client.get('entry', parameters={'limit': limit})\n",
    "    return entries\n",
    "\n",
    "# Function to query entries for a specific campaign iteration (e.g., ABB)\n",
    "def query_campaign_entries(campaign_iteration, limit=1000):\n",
    "    #query_pattern = f'^{campaign_iteration}.._VAM-.'\n",
    "    query_pattern = 'AAA'\n",
    "    entries = client.get('entry/search', parameters={'query': query_pattern, 'limit': limit})\n",
    "    return entries"
   ]
  },
  {
   "cell_type": "code",
   "execution_count": 10,
   "id": "cc0c3431-7d43-498a-bbd3-348e304fd1e8",
   "metadata": {},
   "outputs": [
    {
     "name": "stdout",
     "output_type": "stream",
     "text": [
      "Available forms: []\n",
      "Total entries retrieved: 0\n",
      "Entries for campaign ABB retrieved: 0\n"
     ]
    },
    {
     "data": {
      "text/html": [
       "<div>\n",
       "<style scoped>\n",
       "    .dataframe tbody tr th:only-of-type {\n",
       "        vertical-align: middle;\n",
       "    }\n",
       "\n",
       "    .dataframe tbody tr th {\n",
       "        vertical-align: top;\n",
       "    }\n",
       "\n",
       "    .dataframe thead th {\n",
       "        text-align: right;\n",
       "    }\n",
       "</style>\n",
       "<table border=\"1\" class=\"dataframe\">\n",
       "  <thead>\n",
       "    <tr style=\"text-align: right;\">\n",
       "      <th></th>\n",
       "    </tr>\n",
       "  </thead>\n",
       "  <tbody>\n",
       "  </tbody>\n",
       "</table>\n",
       "</div>"
      ],
      "text/plain": [
       "Empty DataFrame\n",
       "Columns: []\n",
       "Index: []"
      ]
     },
     "metadata": {},
     "output_type": "display_data"
    }
   ],
   "source": [
    "# Example usage\n",
    "if __name__ == '__main__':\n",
    "    # List all available form names\n",
    "    forms = list_forms()\n",
    "    print(\"Available forms:\", forms)\n",
    "\n",
    "    # Retrieve a list of entries\n",
    "    entries = list_entries()\n",
    "    print(f\"Total entries retrieved: {len(entries)}\")\n",
    "\n",
    "    # Query entries for campaign iteration \"ABB\"\n",
    "    abb_entries = query_campaign_entries('ABB')\n",
    "    print(f\"Entries for campaign ABB retrieved: {len(abb_entries)}\")\n",
    "\n",
    "    # Optionally convert entries to DataFrame for easier analysis\n",
    "    df = pd.json_normalize(abb_entries)\n",
    "    display(df.head())\n"
   ]
  },
  {
   "cell_type": "code",
   "execution_count": null,
   "id": "c77df944-cae9-48ce-88c9-dc2a351f349d",
   "metadata": {},
   "outputs": [],
   "source": []
  }
 ],
 "metadata": {
  "kernelspec": {
   "display_name": "Python 3 (ipykernel)",
   "language": "python",
   "name": "python3"
  },
  "language_info": {
   "codemirror_mode": {
    "name": "ipython",
    "version": 3
   },
   "file_extension": ".py",
   "mimetype": "text/x-python",
   "name": "python",
   "nbconvert_exporter": "python",
   "pygments_lexer": "ipython3",
   "version": "3.9.18"
  }
 },
 "nbformat": 4,
 "nbformat_minor": 5
}
